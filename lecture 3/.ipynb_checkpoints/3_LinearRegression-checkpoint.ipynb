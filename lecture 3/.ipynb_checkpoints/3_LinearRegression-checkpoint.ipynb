{
 "cells": [
  {
   "cell_type": "markdown",
   "metadata": {},
   "source": [
    "# ML T-Generation Занятие 3: Линейная регрессия.\n",
    "# Проблема переобучения. Кросс-валидация и регуляризация.\n",
    "\n",
    "Автор: Гаркавый Андрей (andrewgarkavyy@gmail.com)\n",
    "\n",
    "\n",
    "## 0. План\n",
    "\n",
    "1. Приближение одномерной функции многочленом\n",
    "\n",
    "2. Переобучение\n",
    "\n",
    "3. Выводы\n",
    "\n",
    "4. Разделение на тренировочную и тестовую части\n",
    "\n",
    "5. Кросс-валидация\n",
    "\n",
    "6. Линейная регрессия\n",
    "\n",
    "7. Как подбираются коэффициенты\n",
    "\n",
    "8. Регуляризация\n",
    "\n",
    "## 1. Приближение одномерной функции многочленом\n",
    "\n",
    "Начнем с простой задачи.\n",
    "\n",
    "\n",
    "1) Есть функция $f(x)$, но мы ее не знаем.\n",
    "\n",
    "2) Зато мы знаем ее значения в $m$ точках (они называются тренировочным множеством):\n",
    "$$f(x_1) = y_1$$\n",
    "$$\\cdots$$\n",
    "$$f(x_m) = y_m$$\n",
    "3) Нужно научиться приблизительно восстанавливать эту функцию."
   ]
  },
  {
   "cell_type": "markdown",
   "metadata": {},
   "source": [
    "Самый простой способ - научиться приближать её многочленом, а именно давайте подберем такие коэффициенты $a_0, a_1, \\ldots, a_n$, чтобы многочлен $P(x) = a_0 + a_1x + a_2x^2 + \\ldots + a_nx^n$ был как можно ближе к $f(x)$."
   ]
  },
  {
   "cell_type": "markdown",
   "metadata": {},
   "source": [
    "Но что такое \"приблизить\"? Мы знаем лишь значения в $m$ точках, так что в лучшем случае она должна проходить через все эти точки (хотя скоро мы увидим, что это не так)."
   ]
  },
  {
   "cell_type": "markdown",
   "metadata": {},
   "source": [
    "В этом случае обычно пытаются минимизировать сумму квадратов ошибок во всех точках, то есть **функцию потерь** $$L(P) = \\sum_i (P(x_i) - f(x_i))^2 $$\n",
    "\n",
    "Эту величину называют **MSE** - Mean Squared Error (средняя квадратичная ошибка)."
   ]
  },
  {
   "cell_type": "markdown",
   "metadata": {},
   "source": [
    "Тут может возникнуть вопрос, почему мы берем именно сумму квадратов, а не, например, сумму модулей. Однозначного ответа на этот вопрос нет, наиболее удачный ответ, пожалуй такой: у суммы квадратов есть много удобных свойств, например это выпуклая, дифференцируемая функция. Тем не менее иногда другой выбор может быть оправданным. Если вам интересно чуть больше понять про смысл этих условий, можете решить такие задачи:\n",
    "\n",
    "**(0.5 балла) Доп. Задача 1.** Найдите число m такое, что для заданных $x_i$ сумма $\\sum|m - x_i|$ минимальна\n",
    "\n",
    "<место для решения>\n",
    "сфоткал решение и отправил фотографии\n",
    "\n",
    "**(0.5 балла) Доп. Задача 2.** Найдите число m такое, что для заданных $x_i$ сумма $\\sum(m - x_i)^2$ минимальна\n",
    "\n",
    "\n",
    "<место для решения>\n",
    "сфоткал решение и отправил фотографии\n",
    "\n",
    "**(0.5 балла) Доп. Задача 3.** Для какого набора чисел $a_i$, таких что $\\sum a_i = 1$ величина $\\sum a_i^2$ минимальна?\n",
    "\n",
    "\n",
    "<место для решения>\n",
    "не сделал\n",
    "\n",
    "**(0.5 балла) Доп. Задача 4.** Для какого набора чисел $a_i$, таких что $\\sum a_i = 1$ величина $\\sum \\sqrt{a_i}$ минимальна?\n",
    "\n",
    "<место для решения>\n",
    "не сделал\n",
    "\n",
    "Сейчас можно их и пропустить.\n"
   ]
  },
  {
   "cell_type": "markdown",
   "metadata": {},
   "source": [
    "В питоне есть пакет scipy, в котором как раз есть решение этой задаче - подбор такого многочлена для заданных точек, что среднеквадратичная ошибка минимальна.\n",
    "\n",
    "Чтобы им пользоваться, вам нужно ввести в консоли Анаконды `conda install scipy`."
   ]
  },
  {
   "cell_type": "code",
   "execution_count": 38,
   "metadata": {},
   "outputs": [],
   "source": [
    "import numpy as np\n",
    "import scipy\n",
    "import pandas as pd\n",
    "%matplotlib inline\n",
    "from matplotlib import pyplot as plt"
   ]
  },
  {
   "cell_type": "markdown",
   "metadata": {},
   "source": [
    "Сначала просто нарисуем какой-нибудь многочлен, например $f(x) = 3x^3 - 2x^2 + x$ на отрезке $[-1, 1]$:"
   ]
  },
  {
   "cell_type": "code",
   "execution_count": 39,
   "metadata": {},
   "outputs": [],
   "source": [
    "def f(x):\n",
    "    return 3 * x ** 3 - 2 * x**2 + x"
   ]
  },
  {
   "cell_type": "code",
   "execution_count": 40,
   "metadata": {},
   "outputs": [
    {
     "data": {
      "text/plain": [
       "[<matplotlib.lines.Line2D at 0x125a0f278>]"
      ]
     },
     "execution_count": 40,
     "metadata": {},
     "output_type": "execute_result"
    },
    {
     "data": {
      "image/png": "[encoded data removed]",
      "text/plain": [
       "<Figure size 432x288 with 1 Axes>"
      ]
     },
     "metadata": {
      "needs_background": "light"
     },
     "output_type": "display_data"
    }
   ],
   "source": [
    "x100 = np.linspace(-1, 1, 100)\n",
    "plt.plot(x100, f(x100))"
   ]
  },
  {
   "cell_type": "markdown",
   "metadata": {},
   "source": [
    "Теперь зададим набор точек (10 штук) и посмотрим что будет, если подобрать по ним коэффициенты нашего многочлена:"
   ]
  },
  {
   "cell_type": "code",
   "execution_count": 41,
   "metadata": {},
   "outputs": [
    {
     "data": {
      "text/plain": [
       "array([-2.00000000e+00,  3.17037037e+00, -8.42600032e-16])"
      ]
     },
     "execution_count": 41,
     "metadata": {},
     "output_type": "execute_result"
    }
   ],
   "source": [
    "x = np.linspace(-1, 1, 10)  # 10 точек на отрезке [-1, 1]\n",
    "y = f(x)\n",
    "coefs = scipy.polyfit(x, y, deg = 2)\n",
    "coefs"
   ]
  },
  {
   "cell_type": "markdown",
   "metadata": {},
   "source": [
    "(это означает многочлен $-2x^2 + 3.17037 x$)"
   ]
  },
  {
   "cell_type": "markdown",
   "metadata": {},
   "source": [
    "scipy позволяет легко работать с многочленами, заданными их коэффициентами. Мы можем создать из них объект poly1d, который можно будет просто вызывать для получения нужных значений:"
   ]
  },
  {
   "cell_type": "code",
   "execution_count": 42,
   "metadata": {},
   "outputs": [
    {
     "data": {
      "text/plain": [
       "(-8.426000324584082e-16, 1.1703703703703712, -1.6592592592592563)"
      ]
     },
     "execution_count": 42,
     "metadata": {},
     "output_type": "execute_result"
    }
   ],
   "source": [
    "poly = scipy.poly1d(coefs)\n",
    "poly(0), poly(1), poly(2)"
   ]
  },
  {
   "cell_type": "code",
   "execution_count": 43,
   "metadata": {},
   "outputs": [
    {
     "data": {
      "text/plain": [
       "[<matplotlib.lines.Line2D at 0x125a3e160>]"
      ]
     },
     "execution_count": 43,
     "metadata": {},
     "output_type": "execute_result"
    },
    {
     "data": {
      "image/png": "[encoded data removed]",
      "text/plain": [
       "<Figure size 432x288 with 1 Axes>"
      ]
     },
     "metadata": {
      "needs_background": "light"
     },
     "output_type": "display_data"
    }
   ],
   "source": [
    "plt.scatter(x, y)\n",
    "plt.plot(x100, f(x100))\n",
    "plt.plot(x100, poly(x100))"
   ]
  },
  {
   "cell_type": "markdown",
   "metadata": {},
   "source": [
    "Довольно ожидаемо, наша функция не очень похожа на то, что мы искали. Наверное зря мы пытаемся приблизить кубическую функцию многочленом второй степени. Давайте попробуем 3-ю степень."
   ]
  },
  {
   "cell_type": "code",
   "execution_count": 44,
   "metadata": {},
   "outputs": [
    {
     "data": {
      "text/plain": [
       "[<matplotlib.lines.Line2D at 0x125c00390>]"
      ]
     },
     "execution_count": 44,
     "metadata": {},
     "output_type": "execute_result"
    },
    {
     "data": {
      "image/png": "[encoded data removed]",
      "text/plain": [
       "<Figure size 432x288 with 1 Axes>"
      ]
     },
     "metadata": {
      "needs_background": "light"
     },
     "output_type": "display_data"
    }
   ],
   "source": [
    "coefs = scipy.polyfit(x, y, deg = 3)\n",
    "poly = scipy.poly1d(coefs)\n",
    "plt.scatter(x, y)\n",
    "plt.plot(x100, f(x100))\n",
    "plt.plot(x100, poly(x100))"
   ]
  },
  {
   "cell_type": "markdown",
   "metadata": {},
   "source": [
    "На этот раз мы в точности угадали функцию. Можете проверить, что если увеличивать степень многочлена, результат не меняется: более высокие степени тут просто не нужны.\n",
    "\n",
    "Но мы сейчас жили в идеальном мире. На практике чаще всего известные нам значения не совсем точны. Давайте добавим к значениям нашей функции немного шума:"
   ]
  },
  {
   "cell_type": "code",
   "execution_count": 45,
   "metadata": {},
   "outputs": [],
   "source": [
    "x = np.linspace(-1, 1, 10)\n",
    "y = f(x) + np.random.normal(0, 0.5, 10)  # случайный шум"
   ]
  },
  {
   "cell_type": "code",
   "execution_count": 46,
   "metadata": {},
   "outputs": [
    {
     "data": {
      "text/plain": [
       "[<matplotlib.lines.Line2D at 0x125ccc278>]"
      ]
     },
     "execution_count": 46,
     "metadata": {},
     "output_type": "execute_result"
    },
    {
     "data": {
      "image/png": "[encoded data removed]",
      "text/plain": [
       "<Figure size 432x288 with 1 Axes>"
      ]
     },
     "metadata": {
      "needs_background": "light"
     },
     "output_type": "display_data"
    }
   ],
   "source": [
    "coefs = scipy.polyfit(x, y, deg = 3)\n",
    "poly = scipy.poly1d(coefs)\n",
    "plt.scatter(x, y)\n",
    "plt.plot(x100, f(x100))\n",
    "plt.plot(x100, poly(x100))"
   ]
  },
  {
   "cell_type": "markdown",
   "metadata": {},
   "source": [
    "Теперь мы почти попали. Перед тем как читать дальше, подумайте над заданием.\n",
    "\n",
    "**Обязательное задание 1:** попробуйте увеличить степень полинома. Что произойдет с графиком нашего приближения? Попробуйте сформулировать проблему, с которой мы столкнулись. Какие требование к нашему многочлену нам надо предъявлять, чтобы решить эту проблему?"
   ]
  },
  {
   "cell_type": "code",
   "execution_count": 51,
   "metadata": {},
   "outputs": [
    {
     "data": {
      "text/plain": [
       "[<matplotlib.lines.Line2D at 0x126128d30>]"
      ]
     },
     "execution_count": 51,
     "metadata": {},
     "output_type": "execute_result"
    },
    {
     "data": {
      "image/png": "[encoded data removed]",
      "text/plain": [
       "<Figure size 432x288 with 1 Axes>"
      ]
     },
     "metadata": {
      "needs_background": "light"
     },
     "output_type": "display_data"
    }
   ],
   "source": [
    "# Место для решения\n",
    "mycoefs = scipy.polyfit(x, y, deg = 9)\n",
    "mypoly = scipy.poly1d(mycoefs)\n",
    "plt.scatter(x, y)\n",
    "plt.plot(x100, f(x100))\n",
    "plt.plot(x100, poly(x100))\n",
    "plt.plot(x100, mypoly(x100))"
   ]
  },
  {
   "cell_type": "code",
   "execution_count": 52,
   "metadata": {},
   "outputs": [],
   "source": [
    "#график искозится, и попробует каснуться всех точек, из-за чего ответ будет не верным"
   ]
  },
  {
   "cell_type": "markdown",
   "metadata": {},
   "source": [
    "## 2. Переобучение"
   ]
  },
  {
   "cell_type": "markdown",
   "metadata": {},
   "source": [
    "То, что вы увидели при решении этого задания называется в машинном обучении **переобучением** (overfittig).\n",
    "\n",
    "Если мы используем достаточно сложную модель (то есть модель, у которой много параметров, в нашем случае -- многочлен достаточно высокой степени), то у модели появляется возможность \"выучить\" все точки, которые она видела. Например, если задано $m$ точек, всегда можно подобрать многочлен степени $m-1$, который через них проходит (если вы не знакомы с этим фактом, можете подумать, как его доказать).\n"
   ]
  },
  {
   "cell_type": "markdown",
   "metadata": {},
   "source": [
    "\"Честный\" способ проверять качество нашей апроксимации -- **смотреть точность в точках, которые мы не использовали при подборе многочлена**. Это множество часто называют тестовым множеством. Давайте зададим его так:"
   ]
  },
  {
   "cell_type": "code",
   "execution_count": 53,
   "metadata": {},
   "outputs": [
    {
     "data": {
      "text/plain": [
       "array([ 0.44127058,  0.04035567,  0.11327749,  0.93749971, -0.4533763 ,\n",
       "        0.01173036,  0.53372998,  0.35887287, -0.84649959,  0.34081444])"
      ]
     },
     "execution_count": 53,
     "metadata": {},
     "output_type": "execute_result"
    }
   ],
   "source": [
    "# возьмем 10 случайных точек от 0 до 1\n",
    "x_test = np.random.random(10) \n",
    "\n",
    "# превратим их в 10 случайных точек от -1 до 1\n",
    "x_test = 2 * x_test - 1\n",
    "x_test"
   ]
  },
  {
   "cell_type": "markdown",
   "metadata": {},
   "source": [
    "**Обязательное задание 2:** напишите функцию, которая для данного многочлена считает его качество на тестовом множестве (то есть среднеквадратичное отклонение между значениями функции $f$ и многочлена $P$ на тестовой выборке).\n",
    "\n",
    "Вы все прошлое занятие изучали разные функции, попробуйте сделать MSE как можно более компактной функцией (желательно в одну строчку)."
   ]
  },
  {
   "cell_type": "code",
   "execution_count": 54,
   "metadata": {},
   "outputs": [],
   "source": [
    "# y_real - это np.array c реальными значениями в точках\n",
    "# y_pred - это np.array c предсказанными нами значениями в точках\n",
    "# они одной длины\n",
    "\n",
    "def MSE(y_real, y_pred):\n",
    "    return np.sum((y_real - y_pred)**2) / len(y_real)"
   ]
  },
  {
   "cell_type": "markdown",
   "metadata": {},
   "source": [
    "**Обязательное задание 3:** нарисуйте график зависимости ошибки на тестовом множестве от степени многочлена. При какой степени ошибка минимальна?\n"
   ]
  },
  {
   "cell_type": "code",
   "execution_count": 55,
   "metadata": {},
   "outputs": [
    {
     "data": {
      "text/plain": [
       "2.0"
      ]
     },
     "execution_count": 55,
     "metadata": {},
     "output_type": "execute_result"
    }
   ],
   "source": [
    "# место для решения\n",
    "MSE(np.array([1, 2]), np.array([1, 4]))"
   ]
  },
  {
   "cell_type": "code",
   "execution_count": 56,
   "metadata": {},
   "outputs": [
    {
     "data": {
      "text/plain": [
       "0.06684387233245205"
      ]
     },
     "execution_count": 56,
     "metadata": {},
     "output_type": "execute_result"
    }
   ],
   "source": [
    "MSE(poly(x100), f(x100))"
   ]
  },
  {
   "cell_type": "markdown",
   "metadata": {},
   "source": [
    "**(1 балл) Доп. задача 5:** как меняется график, если увеличивать количество точек в множестве, на котором мы подбираем многочлен?"
   ]
  },
  {
   "cell_type": "code",
   "execution_count": 88,
   "metadata": {},
   "outputs": [
    {
     "data": {
      "text/plain": [
       "[<matplotlib.lines.Line2D at 0x127d7aa58>]"
      ]
     },
     "execution_count": 88,
     "metadata": {},
     "output_type": "execute_result"
    },
    {
     "data": {
      "image/png": "[encoded data removed]",
      "text/plain": [
       "<Figure size 432x288 with 1 Axes>"
      ]
     },
     "metadata": {
      "needs_background": "light"
     },
     "output_type": "display_data"
    }
   ],
   "source": [
    "# место для решения\n",
    "newx = np.linspace(-1, 1, 100)\n",
    "newy = f(newx) + np.random.normal(0, 0.5, np.size(newx))\n",
    "\n",
    "coefs = scipy.polyfit(newx, newy, deg = 3)\n",
    "poly2 = scipy.poly1d(coefs)\n",
    "plt.scatter(newx, newy, marker='+')\n",
    "plt.plot(x100, f(x100), color='k')\n",
    "plt.plot(x100, poly2(x100), color='r')\n",
    "\n",
    "#при увеличении числа точек точность предсказанного графика возрастет, и он практически совпадет с данным\n"
   ]
  },
  {
   "cell_type": "markdown",
   "metadata": {},
   "source": [
    "## 3. Выводы\n",
    "\n",
    "1) Цель машинного обучения с учителем - приблизить **целевую функцию** (target) по её значениям (возможно приблзительным) в некоторых точках.\n",
    "\n",
    "В нашем случае - это $f(x) = 3x^3 - 2x^2 + x$. Обычно она, конечно, никому неизвестна.\n",
    "\n",
    "2) Множество точек с известным значением функции называется **тренировочным множеством** (train).\n",
    "\n",
    "В нашем случае - это 10 точек, выбранных равномерно на отрезке $[-1, 1]$.\n",
    "\n",
    "3) Чтобы приблизить функцию, нужно использовать какую-то **модель** (model), приближающую функцию.\n",
    "\n",
    "В данном случае - это многочлен $P(x) = a_0 + a_1x + a_2x^2 + \\ldots + a_nx^n$.\n",
    "\n",
    "4) Мы выбираем **функцию потерь** (loss function) для сравнения результатов модели и реальных значения на тренировочном множестве. Чем она меньше, тем лучше наша модель.\n",
    "\n",
    "В данном случае - это $MSE = \\sum_i (P(x_i) - f(x_i))^2$.\n",
    "\n",
    "5) У модели есть **параметры**, которые мы выбираем так, чтобы функция потерь на тренировочном множестве была минимальна.\n",
    "\n",
    "В данном случае - это коэффициенты многочлена ($a_0, a_1, \\ldots, a_n$). Выбираются они с помощью пока магической для нас функции polyfit.\n",
    "\n",
    "6) У модели есть **гиперпараметры**, которые мы выбираем сами.\n",
    "\n",
    "В данном случае - это степень многочлена (число $n$).\n",
    "\n",
    "7) Однако такой подход с минимизацией функции потерь может привести к тому, что мы идеально приблизим функцию на тренировочном множестве, но она будет абсолютно отличаться во всех остальных точках. Это явление называется **переобучением**.\n",
    "\n",
    "В данном случае - мы видели, что если степень многочлена большая (больше трех), то мы попадаем во все точки, но при этом сам многочлен сильно отличается от $f(x)$.\n",
    "\n",
    "8) Чтобы бороться с переобучением, полезно выделить **тестовое множество** точек, в которых мы тоже знаем результаты функции. Оно никак не используется при обучении модели, и нужно только для валидации результата.\n",
    "\n",
    "В данном случае - мы взяли рандомные 10 точек на отрезке $[-1, 1]$.\n",
    "\n",
    "9) В идеальном случае функция потерь на тренировочном и тестовом множестве не отличается. А вот если на тренировочном функция потерь получается гораздо меньше, чем на тестовом, то это говорит о том, что происходит переобучение.\n",
    "\n",
    "Действительно, при большой степени MSE близка к или равна нулю на тренировочном множестве, а на тестовом множестве нет.\n",
    "\n",
    "10) Единственный пока способ, который мы знаем, чтобы влиять на переобучение - это перебирать **гиперпараметры** модели так, чтобы **минимизировать функцию потерь на тестовом множестве**.\n",
    "\n",
    "Действительно, если выбрать степень 3, то функция потерь окажется минимальной на тестовом множестве, как мы видели в задании 3."
   ]
  },
  {
   "cell_type": "markdown",
   "metadata": {},
   "source": [
    "## 4. Разделение на тренировочную и тестовую части"
   ]
  },
  {
   "cell_type": "markdown",
   "metadata": {},
   "source": [
    "Если вы решите поучаствовать в каком-нибудь соревновании по машинному обучению, вы увидите, что тестовое множество вам недоступно (иначе было бы неинтересно: очень легко обучиться предсказывать то, что ты уже видел).\n",
    "\n",
    "В реальной жизни обычно тоже считают, что на тестовом множестве можно провериться один раз -- в самом конце. Иначе вы начнете подкручивать гиперпараметры глядя на результат на тестовой выборке и, сами того не замечая, переобучитесь.\n",
    "\n",
    "Как поступать в такой ситуации? Придется пожертвовать частью точек, которые даны нам для обучения и использовать их для подбора гиперпараметров в нашем алгоритме (в нашем случае это степень многочлена).\n",
    "\n",
    "То есть придется из точек, у которых мы знаем результаты, убрать, например, 10% в тестовое множество.\n",
    "\n",
    "Функция для этого есть, например, в пакете sklearn, который можно скачать так: `conda install scikit-learn`."
   ]
  },
  {
   "cell_type": "code",
   "execution_count": 89,
   "metadata": {},
   "outputs": [],
   "source": [
    "X = np.linspace(-1, 1, 50)\n",
    "y = f(X)"
   ]
  },
  {
   "cell_type": "code",
   "execution_count": 90,
   "metadata": {},
   "outputs": [],
   "source": [
    "from sklearn.model_selection import train_test_split\n",
    "X_train, X_test, y_train, y_test = train_test_split(X, y, test_size=0.1)"
   ]
  },
  {
   "cell_type": "code",
   "execution_count": 91,
   "metadata": {},
   "outputs": [
    {
     "data": {
      "text/plain": [
       "(array([ 0.10204082,  0.95918367, -0.79591837,  0.75510204, -0.10204082,\n",
       "        -0.55102041, -0.14285714,  0.18367347,  0.71428571,  0.91836735,\n",
       "         0.59183673,  0.67346939, -0.91836735, -0.06122449, -0.71428571,\n",
       "        -0.95918367, -0.51020408,  0.30612245,  0.34693878,  0.02040816,\n",
       "         1.        ,  0.83673469,  0.26530612,  0.06122449, -0.87755102,\n",
       "        -0.42857143, -0.67346939, -0.83673469, -0.30612245, -0.59183673,\n",
       "        -0.2244898 ,  0.3877551 ,  0.14285714,  0.55102041, -1.        ,\n",
       "         0.2244898 , -0.18367347,  0.51020408,  0.46938776, -0.46938776,\n",
       "         0.79591837,  0.87755102, -0.75510204, -0.63265306, -0.26530612]),\n",
       " array([ 0.08440361,  1.76655985, -3.5755    ,  0.90637404, -0.12605292,\n",
       "        -1.66017561, -0.19241983,  0.13479078,  0.78717201,  1.55521934,\n",
       "         0.51320453,  0.68272574, -4.92881367, -0.06940985, -2.82798834,\n",
       "        -5.44669313, -1.42925142,  0.20476162,  0.23148518,  0.01960068,\n",
       "         2.        ,  1.1939413 ,  0.18055402,  0.0544161 , -4.44513766,\n",
       "        -1.03206997, -2.4969698 , -3.99444109, -0.57960544, -1.91428741,\n",
       "        -0.35922107,  0.26194868,  0.11078717,  0.44568165, -6.        ,\n",
       "         0.1576384 , -0.26973455,  0.3880186 ,  0.33899141, -1.22029087,\n",
       "         1.04155581,  1.36475448, -3.18709041, -2.19281082, -0.46210338]))"
      ]
     },
     "execution_count": 91,
     "metadata": {},
     "output_type": "execute_result"
    }
   ],
   "source": [
    "X_train, y_train"
   ]
  },
  {
   "cell_type": "code",
   "execution_count": 92,
   "metadata": {},
   "outputs": [
    {
     "data": {
      "text/plain": [
       "(array([-0.34693878,  0.63265306, -0.02040816, -0.3877551 ,  0.42857143]),\n",
       " array([-0.71295124,  0.59181124, -0.02126665, -0.86336475,  0.29737609]))"
      ]
     },
     "execution_count": 92,
     "metadata": {},
     "output_type": "execute_result"
    }
   ],
   "source": [
    "X_test, y_test"
   ]
  },
  {
   "cell_type": "code",
   "execution_count": 93,
   "metadata": {},
   "outputs": [
    {
     "data": {
      "text/plain": [
       "<matplotlib.collections.PathCollection at 0x127f09518>"
      ]
     },
     "execution_count": 93,
     "metadata": {},
     "output_type": "execute_result"
    },
    {
     "data": {
      "image/png": "[encoded data removed]",
      "text/plain": [
       "<Figure size 432x288 with 1 Axes>"
      ]
     },
     "metadata": {
      "needs_background": "light"
     },
     "output_type": "display_data"
    }
   ],
   "source": [
    "plt.scatter(X_train, y_train, color='b')\n",
    "plt.scatter(X_test, y_test, color='r') "
   ]
  },
  {
   "cell_type": "markdown",
   "metadata": {},
   "source": [
    "## 5. Кросс-валидация\n",
    "\n",
    "Также есть более точный способ проводить валидацию результата. Если разделить множество один раз на тестовое и тренировочное, то это может значительно влиять на результат. Вдруг в тестовое множество случайно попали такие точки, в которых предсказать значение тяжелее или легче, чем обычно?\n",
    "\n",
    "Тогда можно применить **кросс-валидацию** - давайте разделим множество на 10 примерно равных частей, тогда у нас есть 10 разделений на тренировочное и тестовое множество - как тестовое множество выберем по очереди каждую из этих частей, а как тренировочное выберем все остальные части.\n",
    "\n",
    "Можно посчитать результат на каждом из 10 разбиений и просто усреднить результат.\n"
   ]
  },
  {
   "cell_type": "code",
   "execution_count": 23,
   "metadata": {},
   "outputs": [
    {
     "name": "stdout",
     "output_type": "stream",
     "text": [
      "[0 1 2 3 4] [ 5  6  7  8  9 10 11 12 13 14 15 16 17 18 19 20 21 22 23 24 25 26 27 28\n",
      " 29 30 31 32 33 34 35 36 37 38 39 40 41 42 43 44 45 46 47 48 49]\n",
      "[5 6 7 8 9] [ 0  1  2  3  4 10 11 12 13 14 15 16 17 18 19 20 21 22 23 24 25 26 27 28\n",
      " 29 30 31 32 33 34 35 36 37 38 39 40 41 42 43 44 45 46 47 48 49]\n",
      "[10 11 12 13 14] [ 0  1  2  3  4  5  6  7  8  9 15 16 17 18 19 20 21 22 23 24 25 26 27 28\n",
      " 29 30 31 32 33 34 35 36 37 38 39 40 41 42 43 44 45 46 47 48 49]\n",
      "[15 16 17 18 19] [ 0  1  2  3  4  5  6  7  8  9 10 11 12 13 14 20 21 22 23 24 25 26 27 28\n",
      " 29 30 31 32 33 34 35 36 37 38 39 40 41 42 43 44 45 46 47 48 49]\n",
      "[20 21 22 23 24] [ 0  1  2  3  4  5  6  7  8  9 10 11 12 13 14 15 16 17 18 19 25 26 27 28\n",
      " 29 30 31 32 33 34 35 36 37 38 39 40 41 42 43 44 45 46 47 48 49]\n",
      "[25 26 27 28 29] [ 0  1  2  3  4  5  6  7  8  9 10 11 12 13 14 15 16 17 18 19 20 21 22 23\n",
      " 24 30 31 32 33 34 35 36 37 38 39 40 41 42 43 44 45 46 47 48 49]\n",
      "[30 31 32 33 34] [ 0  1  2  3  4  5  6  7  8  9 10 11 12 13 14 15 16 17 18 19 20 21 22 23\n",
      " 24 25 26 27 28 29 35 36 37 38 39 40 41 42 43 44 45 46 47 48 49]\n",
      "[35 36 37 38 39] [ 0  1  2  3  4  5  6  7  8  9 10 11 12 13 14 15 16 17 18 19 20 21 22 23\n",
      " 24 25 26 27 28 29 30 31 32 33 34 40 41 42 43 44 45 46 47 48 49]\n",
      "[40 41 42 43 44] [ 0  1  2  3  4  5  6  7  8  9 10 11 12 13 14 15 16 17 18 19 20 21 22 23\n",
      " 24 25 26 27 28 29 30 31 32 33 34 35 36 37 38 39 45 46 47 48 49]\n",
      "[45 46 47 48 49] [ 0  1  2  3  4  5  6  7  8  9 10 11 12 13 14 15 16 17 18 19 20 21 22 23\n",
      " 24 25 26 27 28 29 30 31 32 33 34 35 36 37 38 39 40 41 42 43 44]\n"
     ]
    }
   ],
   "source": [
    "# Есть вот такая удобная штука\n",
    "from sklearn.model_selection import KFold\n",
    "kf = KFold(n_splits=10)\n",
    "kf.get_n_splits(X)\n",
    "for train_index, test_index in kf.split(X):\n",
    "    print(test_index, train_index)"
   ]
  },
  {
   "cell_type": "markdown",
   "metadata": {},
   "source": [
    "**(1 балл) Доп. задача 6:** проделайте все вышеописанное с функцией $f(x) = \\frac{1}{1 + e^{-x}}$ на отрезке $[-3, 3]$. Как оптимальная степень зависит от количества точек, по которым вы подбираете многочлен?"
   ]
  },
  {
   "cell_type": "code",
   "execution_count": 102,
   "metadata": {},
   "outputs": [],
   "source": [
    "# место для решения\n",
    "def sigmoid(x):\n",
    "    return 1.0 / (1 + np.exp(-x))\n",
    "\n",
    "nsX = np.linspace(-8, 8, 90)\n",
    "nsy = sigmoid(nsX)"
   ]
  },
  {
   "cell_type": "code",
   "execution_count": 103,
   "metadata": {},
   "outputs": [
    {
     "data": {
      "text/plain": [
       "<matplotlib.collections.PathCollection at 0x128cfc9b0>"
      ]
     },
     "execution_count": 103,
     "metadata": {},
     "output_type": "execute_result"
    },
    {
     "data": {
      "image/png": "[encoded data removed]",
      "text/plain": [
       "<Figure size 432x288 with 1 Axes>"
      ]
     },
     "metadata": {
      "needs_background": "light"
     },
     "output_type": "display_data"
    }
   ],
   "source": [
    "nsX_train, nsX_test, nsy_train, nsy_test = train_test_split(nsX, nsy, test_size=0.1)\n",
    "plt.scatter(nsX_train, nsy_train, color='b', marker='.')\n",
    "plt.scatter(nsX_test, nsy_test, color='r') "
   ]
  },
  {
   "cell_type": "code",
   "execution_count": 106,
   "metadata": {},
   "outputs": [
    {
     "name": "stdout",
     "output_type": "stream",
     "text": [
      "[0 1 2 3 4 5 6 7 8] [ 9 10 11 12 13 14 15 16 17 18 19 20 21 22 23 24 25 26 27 28 29 30 31 32\n",
      " 33 34 35 36 37 38 39 40 41 42 43 44 45 46 47 48 49 50 51 52 53 54 55 56\n",
      " 57 58 59 60 61 62 63 64 65 66 67 68 69 70 71 72 73 74 75 76 77 78 79 80\n",
      " 81 82 83 84 85 86 87 88 89]\n",
      "[ 9 10 11 12 13 14 15 16 17] [ 0  1  2  3  4  5  6  7  8 18 19 20 21 22 23 24 25 26 27 28 29 30 31 32\n",
      " 33 34 35 36 37 38 39 40 41 42 43 44 45 46 47 48 49 50 51 52 53 54 55 56\n",
      " 57 58 59 60 61 62 63 64 65 66 67 68 69 70 71 72 73 74 75 76 77 78 79 80\n",
      " 81 82 83 84 85 86 87 88 89]\n",
      "[18 19 20 21 22 23 24 25 26] [ 0  1  2  3  4  5  6  7  8  9 10 11 12 13 14 15 16 17 27 28 29 30 31 32\n",
      " 33 34 35 36 37 38 39 40 41 42 43 44 45 46 47 48 49 50 51 52 53 54 55 56\n",
      " 57 58 59 60 61 62 63 64 65 66 67 68 69 70 71 72 73 74 75 76 77 78 79 80\n",
      " 81 82 83 84 85 86 87 88 89]\n",
      "[27 28 29 30 31 32 33 34 35] [ 0  1  2  3  4  5  6  7  8  9 10 11 12 13 14 15 16 17 18 19 20 21 22 23\n",
      " 24 25 26 36 37 38 39 40 41 42 43 44 45 46 47 48 49 50 51 52 53 54 55 56\n",
      " 57 58 59 60 61 62 63 64 65 66 67 68 69 70 71 72 73 74 75 76 77 78 79 80\n",
      " 81 82 83 84 85 86 87 88 89]\n",
      "[36 37 38 39 40 41 42 43 44] [ 0  1  2  3  4  5  6  7  8  9 10 11 12 13 14 15 16 17 18 19 20 21 22 23\n",
      " 24 25 26 27 28 29 30 31 32 33 34 35 45 46 47 48 49 50 51 52 53 54 55 56\n",
      " 57 58 59 60 61 62 63 64 65 66 67 68 69 70 71 72 73 74 75 76 77 78 79 80\n",
      " 81 82 83 84 85 86 87 88 89]\n",
      "[45 46 47 48 49 50 51 52 53] [ 0  1  2  3  4  5  6  7  8  9 10 11 12 13 14 15 16 17 18 19 20 21 22 23\n",
      " 24 25 26 27 28 29 30 31 32 33 34 35 36 37 38 39 40 41 42 43 44 54 55 56\n",
      " 57 58 59 60 61 62 63 64 65 66 67 68 69 70 71 72 73 74 75 76 77 78 79 80\n",
      " 81 82 83 84 85 86 87 88 89]\n",
      "[54 55 56 57 58 59 60 61 62] [ 0  1  2  3  4  5  6  7  8  9 10 11 12 13 14 15 16 17 18 19 20 21 22 23\n",
      " 24 25 26 27 28 29 30 31 32 33 34 35 36 37 38 39 40 41 42 43 44 45 46 47\n",
      " 48 49 50 51 52 53 63 64 65 66 67 68 69 70 71 72 73 74 75 76 77 78 79 80\n",
      " 81 82 83 84 85 86 87 88 89]\n",
      "[63 64 65 66 67 68 69 70 71] [ 0  1  2  3  4  5  6  7  8  9 10 11 12 13 14 15 16 17 18 19 20 21 22 23\n",
      " 24 25 26 27 28 29 30 31 32 33 34 35 36 37 38 39 40 41 42 43 44 45 46 47\n",
      " 48 49 50 51 52 53 54 55 56 57 58 59 60 61 62 72 73 74 75 76 77 78 79 80\n",
      " 81 82 83 84 85 86 87 88 89]\n",
      "[72 73 74 75 76 77 78 79 80] [ 0  1  2  3  4  5  6  7  8  9 10 11 12 13 14 15 16 17 18 19 20 21 22 23\n",
      " 24 25 26 27 28 29 30 31 32 33 34 35 36 37 38 39 40 41 42 43 44 45 46 47\n",
      " 48 49 50 51 52 53 54 55 56 57 58 59 60 61 62 63 64 65 66 67 68 69 70 71\n",
      " 81 82 83 84 85 86 87 88 89]\n",
      "[81 82 83 84 85 86 87 88 89] [ 0  1  2  3  4  5  6  7  8  9 10 11 12 13 14 15 16 17 18 19 20 21 22 23\n",
      " 24 25 26 27 28 29 30 31 32 33 34 35 36 37 38 39 40 41 42 43 44 45 46 47\n",
      " 48 49 50 51 52 53 54 55 56 57 58 59 60 61 62 63 64 65 66 67 68 69 70 71\n",
      " 72 73 74 75 76 77 78 79 80]\n"
     ]
    }
   ],
   "source": [
    "nskf = KFold(n_splits=10)\n",
    "nskf.get_n_splits(nsX)\n",
    "for train_index, test_index in kf.split(nsX):\n",
    "    print(test_index, train_index)"
   ]
  },
  {
   "cell_type": "markdown",
   "metadata": {},
   "source": [
    "## 6. Линейная регрессия\n",
    "\n",
    "**Регрессией** называется задача машинного обучения с учителем, в которой у нас есть много объектов с признаками, у которых надо научиться приближенно предсказывать значение целевой функции, которая равна какому-то **действительному числу**. \n",
    "\n",
    "В этом будет отличие задачи регрессии от задачи классификации - регрессия предсказывает число, а классификация - один из нескольких классов.\n",
    "\n",
    "До этого мы учились приближать одномерную функцию многочленом. Каждая точка имела ровно один признак - коодинату $x$.\n",
    "\n",
    "Тем не менее, чаще всего в машинном обучении признаков гораздо больше. Возьмем какой-нибудь реальный датасет, например, **страны мира**."
   ]
  },
  {
   "cell_type": "code",
   "execution_count": 107,
   "metadata": {},
   "outputs": [
    {
     "data": {
      "text/html": [
       "<div>\n",
       "<style scoped>\n",
       "    .dataframe tbody tr th:only-of-type {\n",
       "        vertical-align: middle;\n",
       "    }\n",
       "\n",
       "    .dataframe tbody tr th {\n",
       "        vertical-align: top;\n",
       "    }\n",
       "\n",
       "    .dataframe thead th {\n",
       "        text-align: right;\n",
       "    }\n",
       "</style>\n",
       "<table border=\"1\" class=\"dataframe\">\n",
       "  <thead>\n",
       "    <tr style=\"text-align: right;\">\n",
       "      <th></th>\n",
       "      <th>Country</th>\n",
       "      <th>Population</th>\n",
       "      <th>Area (sq. mi.)</th>\n",
       "      <th>Pop. Density (per sq. mi.)</th>\n",
       "      <th>Coastline (coast/area ratio)</th>\n",
       "      <th>Net migration</th>\n",
       "      <th>Infant mortality (per 1000 births)</th>\n",
       "      <th>GDP ($ per capita)</th>\n",
       "      <th>Literacy (%)</th>\n",
       "      <th>Phones (per 1000)</th>\n",
       "      <th>Arable (%)</th>\n",
       "      <th>Crops (%)</th>\n",
       "      <th>Other (%)</th>\n",
       "      <th>Birthrate</th>\n",
       "      <th>Deathrate</th>\n",
       "      <th>Agriculture</th>\n",
       "      <th>Industry</th>\n",
       "      <th>Service</th>\n",
       "    </tr>\n",
       "  </thead>\n",
       "  <tbody>\n",
       "    <tr>\n",
       "      <th>0</th>\n",
       "      <td>Afghanistan</td>\n",
       "      <td>31056997</td>\n",
       "      <td>647500</td>\n",
       "      <td>48.0</td>\n",
       "      <td>0.00</td>\n",
       "      <td>23.06</td>\n",
       "      <td>163.07</td>\n",
       "      <td>700.0</td>\n",
       "      <td>36.0</td>\n",
       "      <td>3.2</td>\n",
       "      <td>12.13</td>\n",
       "      <td>0.22</td>\n",
       "      <td>87.65</td>\n",
       "      <td>46.60</td>\n",
       "      <td>20.34</td>\n",
       "      <td>0.380</td>\n",
       "      <td>0.240</td>\n",
       "      <td>0.380</td>\n",
       "    </tr>\n",
       "    <tr>\n",
       "      <th>1</th>\n",
       "      <td>Albania</td>\n",
       "      <td>3581655</td>\n",
       "      <td>28748</td>\n",
       "      <td>124.6</td>\n",
       "      <td>1.26</td>\n",
       "      <td>-4.93</td>\n",
       "      <td>21.52</td>\n",
       "      <td>4500.0</td>\n",
       "      <td>86.5</td>\n",
       "      <td>71.2</td>\n",
       "      <td>21.09</td>\n",
       "      <td>4.42</td>\n",
       "      <td>74.49</td>\n",
       "      <td>15.11</td>\n",
       "      <td>5.22</td>\n",
       "      <td>0.232</td>\n",
       "      <td>0.188</td>\n",
       "      <td>0.579</td>\n",
       "    </tr>\n",
       "    <tr>\n",
       "      <th>2</th>\n",
       "      <td>Algeria</td>\n",
       "      <td>32930091</td>\n",
       "      <td>2381740</td>\n",
       "      <td>13.8</td>\n",
       "      <td>0.04</td>\n",
       "      <td>-0.39</td>\n",
       "      <td>31.00</td>\n",
       "      <td>6000.0</td>\n",
       "      <td>70.0</td>\n",
       "      <td>78.1</td>\n",
       "      <td>3.22</td>\n",
       "      <td>0.25</td>\n",
       "      <td>96.53</td>\n",
       "      <td>17.14</td>\n",
       "      <td>4.61</td>\n",
       "      <td>0.101</td>\n",
       "      <td>0.600</td>\n",
       "      <td>0.298</td>\n",
       "    </tr>\n",
       "    <tr>\n",
       "      <th>3</th>\n",
       "      <td>American Samoa</td>\n",
       "      <td>57794</td>\n",
       "      <td>199</td>\n",
       "      <td>290.4</td>\n",
       "      <td>58.29</td>\n",
       "      <td>-20.71</td>\n",
       "      <td>9.27</td>\n",
       "      <td>8000.0</td>\n",
       "      <td>97.0</td>\n",
       "      <td>259.5</td>\n",
       "      <td>10.00</td>\n",
       "      <td>15.00</td>\n",
       "      <td>75.00</td>\n",
       "      <td>22.46</td>\n",
       "      <td>3.27</td>\n",
       "      <td>NaN</td>\n",
       "      <td>NaN</td>\n",
       "      <td>NaN</td>\n",
       "    </tr>\n",
       "    <tr>\n",
       "      <th>4</th>\n",
       "      <td>Andorra</td>\n",
       "      <td>71201</td>\n",
       "      <td>468</td>\n",
       "      <td>152.1</td>\n",
       "      <td>0.00</td>\n",
       "      <td>6.60</td>\n",
       "      <td>4.05</td>\n",
       "      <td>19000.0</td>\n",
       "      <td>100.0</td>\n",
       "      <td>497.2</td>\n",
       "      <td>2.22</td>\n",
       "      <td>0.00</td>\n",
       "      <td>97.78</td>\n",
       "      <td>8.71</td>\n",
       "      <td>6.25</td>\n",
       "      <td>NaN</td>\n",
       "      <td>NaN</td>\n",
       "      <td>NaN</td>\n",
       "    </tr>\n",
       "  </tbody>\n",
       "</table>\n",
       "</div>"
      ],
      "text/plain": [
       "           Country  Population  Area (sq. mi.)  Pop. Density (per sq. mi.)  \\\n",
       "0     Afghanistan     31056997          647500                        48.0   \n",
       "1         Albania      3581655           28748                       124.6   \n",
       "2         Algeria     32930091         2381740                        13.8   \n",
       "3  American Samoa        57794             199                       290.4   \n",
       "4         Andorra        71201             468                       152.1   \n",
       "\n",
       "   Coastline (coast/area ratio)  Net migration  \\\n",
       "0                          0.00          23.06   \n",
       "1                          1.26          -4.93   \n",
       "2                          0.04          -0.39   \n",
       "3                         58.29         -20.71   \n",
       "4                          0.00           6.60   \n",
       "\n",
       "   Infant mortality (per 1000 births)  GDP ($ per capita)  Literacy (%)  \\\n",
       "0                              163.07               700.0          36.0   \n",
       "1                               21.52              4500.0          86.5   \n",
       "2                               31.00              6000.0          70.0   \n",
       "3                                9.27              8000.0          97.0   \n",
       "4                                4.05             19000.0         100.0   \n",
       "\n",
       "   Phones (per 1000)  Arable (%)  Crops (%)  Other (%)  Birthrate  Deathrate  \\\n",
       "0                3.2       12.13       0.22      87.65      46.60      20.34   \n",
       "1               71.2       21.09       4.42      74.49      15.11       5.22   \n",
       "2               78.1        3.22       0.25      96.53      17.14       4.61   \n",
       "3              259.5       10.00      15.00      75.00      22.46       3.27   \n",
       "4              497.2        2.22       0.00      97.78       8.71       6.25   \n",
       "\n",
       "   Agriculture  Industry  Service  \n",
       "0        0.380     0.240    0.380  \n",
       "1        0.232     0.188    0.579  \n",
       "2        0.101     0.600    0.298  \n",
       "3          NaN       NaN      NaN  \n",
       "4          NaN       NaN      NaN  "
      ]
     },
     "execution_count": 107,
     "metadata": {},
     "output_type": "execute_result"
    }
   ],
   "source": [
    "data = pd.read_csv('countries.csv')\n",
    "data.head()"
   ]
  },
  {
   "cell_type": "markdown",
   "metadata": {},
   "source": [
    "Давайте научимся предсказывать GDP (ВВП) страны под другим известным признакам. Предположительно, какая-то зависимость существует.\n",
    "\n",
    "**Признаками** (по-английски feature) страны у нас теперь будут 16 чисел с признаками, а не 1 число как раньше."
   ]
  },
  {
   "cell_type": "code",
   "execution_count": 108,
   "metadata": {},
   "outputs": [
    {
     "data": {
      "text/plain": [
       "array([[ 3.1056997e+07,  6.4750000e+05,  4.8000000e+01,  0.0000000e+00,\n",
       "         2.3060000e+01,  1.6307000e+02,  3.6000000e+01,  3.2000000e+00,\n",
       "         1.2130000e+01,  2.2000000e-01,  8.7650000e+01,  4.6600000e+01,\n",
       "         2.0340000e+01,  3.8000000e-01,  2.4000000e-01,  3.8000000e-01],\n",
       "       [ 3.5816550e+06,  2.8748000e+04,  1.2460000e+02,  1.2600000e+00,\n",
       "        -4.9300000e+00,  2.1520000e+01,  8.6500000e+01,  7.1200000e+01,\n",
       "         2.1090000e+01,  4.4200000e+00,  7.4490000e+01,  1.5110000e+01,\n",
       "         5.2200000e+00,  2.3200000e-01,  1.8800000e-01,  5.7900000e-01],\n",
       "       [ 3.2930091e+07,  2.3817400e+06,  1.3800000e+01,  4.0000000e-02,\n",
       "        -3.9000000e-01,  3.1000000e+01,  7.0000000e+01,  7.8100000e+01,\n",
       "         3.2200000e+00,  2.5000000e-01,  9.6530000e+01,  1.7140000e+01,\n",
       "         4.6100000e+00,  1.0100000e-01,  6.0000000e-01,  2.9800000e-01],\n",
       "       [ 5.7794000e+04,  1.9900000e+02,  2.9040000e+02,  5.8290000e+01,\n",
       "        -2.0710000e+01,  9.2700000e+00,  9.7000000e+01,  2.5950000e+02,\n",
       "         1.0000000e+01,  1.5000000e+01,  7.5000000e+01,  2.2460000e+01,\n",
       "         3.2700000e+00,            nan,            nan,            nan],\n",
       "       [ 7.1201000e+04,  4.6800000e+02,  1.5210000e+02,  0.0000000e+00,\n",
       "         6.6000000e+00,  4.0500000e+00,  1.0000000e+02,  4.9720000e+02,\n",
       "         2.2200000e+00,  0.0000000e+00,  9.7780000e+01,  8.7100000e+00,\n",
       "         6.2500000e+00,            nan,            nan,            nan]])"
      ]
     },
     "execution_count": 108,
     "metadata": {},
     "output_type": "execute_result"
    }
   ],
   "source": [
    "X = np.array(data.drop(['Country', 'GDP ($ per capita)'], axis=1))\n",
    "X[:5]"
   ]
  },
  {
   "cell_type": "code",
   "execution_count": 109,
   "metadata": {},
   "outputs": [
    {
     "data": {
      "text/plain": [
       "array([  700.,  4500.,  6000.,  8000., 19000.])"
      ]
     },
     "execution_count": 109,
     "metadata": {},
     "output_type": "execute_result"
    }
   ],
   "source": [
    "y = np.array(data['GDP ($ per capita)'])\n",
    "y[:5]"
   ]
  },
  {
   "cell_type": "code",
   "execution_count": 110,
   "metadata": {},
   "outputs": [],
   "source": [
    "country_names = data['Country']"
   ]
  },
  {
   "cell_type": "code",
   "execution_count": 111,
   "metadata": {},
   "outputs": [
    {
     "data": {
      "text/plain": [
       "array([[ 3.1056997e+07,  6.4750000e+05,  4.8000000e+01,  0.0000000e+00,\n",
       "         2.3060000e+01,  1.6307000e+02,  3.6000000e+01,  3.2000000e+00,\n",
       "         1.2130000e+01,  2.2000000e-01,  8.7650000e+01,  4.6600000e+01,\n",
       "         2.0340000e+01,  3.8000000e-01,  2.4000000e-01,  3.8000000e-01],\n",
       "       [ 3.5816550e+06,  2.8748000e+04,  1.2460000e+02,  1.2600000e+00,\n",
       "        -4.9300000e+00,  2.1520000e+01,  8.6500000e+01,  7.1200000e+01,\n",
       "         2.1090000e+01,  4.4200000e+00,  7.4490000e+01,  1.5110000e+01,\n",
       "         5.2200000e+00,  2.3200000e-01,  1.8800000e-01,  5.7900000e-01],\n",
       "       [ 3.2930091e+07,  2.3817400e+06,  1.3800000e+01,  4.0000000e-02,\n",
       "        -3.9000000e-01,  3.1000000e+01,  7.0000000e+01,  7.8100000e+01,\n",
       "         3.2200000e+00,  2.5000000e-01,  9.6530000e+01,  1.7140000e+01,\n",
       "         4.6100000e+00,  1.0100000e-01,  6.0000000e-01,  2.9800000e-01],\n",
       "       [ 5.7794000e+04,  1.9900000e+02,  2.9040000e+02,  5.8290000e+01,\n",
       "        -2.0710000e+01,  9.2700000e+00,  9.7000000e+01,  2.5950000e+02,\n",
       "         1.0000000e+01,  1.5000000e+01,  7.5000000e+01,  2.2460000e+01,\n",
       "         3.2700000e+00,  0.0000000e+00,  0.0000000e+00,  0.0000000e+00],\n",
       "       [ 7.1201000e+04,  4.6800000e+02,  1.5210000e+02,  0.0000000e+00,\n",
       "         6.6000000e+00,  4.0500000e+00,  1.0000000e+02,  4.9720000e+02,\n",
       "         2.2200000e+00,  0.0000000e+00,  9.7780000e+01,  8.7100000e+00,\n",
       "         6.2500000e+00,  0.0000000e+00,  0.0000000e+00,  0.0000000e+00]])"
      ]
     },
     "execution_count": 111,
     "metadata": {},
     "output_type": "execute_result"
    }
   ],
   "source": [
    "# небольшая проблема: некоторые данные в признаках помечены как NaN\n",
    "# надо их заменить на какое-то число, давайте заменим на 0\n",
    "\n",
    "X[np.where(np.isnan(X))] = 0.0\n",
    "X[:5]"
   ]
  },
  {
   "cell_type": "markdown",
   "metadata": {},
   "source": [
    "Какую модель выбрать для предсказания ВВП? Давайте выберем **линейную модель**. То есть результат зависит от признаков как их линейная комбинация:\n",
    "\n",
    "$$m(x_1, \\ldots, x_n) = a_0 + a_1x_1 + a_2x_2 + \\ldots + a_nx_n$$."
   ]
  },
  {
   "cell_type": "markdown",
   "metadata": {},
   "source": [
    "Как функцию потерь опять выберем MSE - среднеквадратичную ошибку.\n",
    "\n",
    "Такая модель уже написана в пакете $sklearn$ и называется **LinearRegession**."
   ]
  },
  {
   "cell_type": "code",
   "execution_count": 123,
   "metadata": {},
   "outputs": [],
   "source": [
    "from sklearn.linear_model import LinearRegression\n",
    "model = LinearRegression()"
   ]
  },
  {
   "cell_type": "markdown",
   "metadata": {},
   "source": [
    "У любой модели в библиотеке sklearn есть следующие методы:\n",
    "\n",
    "1) fit(X_train, y_train) - обучить модель на значениях на тренировочном множестве (подобрать параметры, в которых функция потерь минимальна). Мы пока не будем рассказывать, как происходит этот подбор параметров для LinearRegression, он реализован внутри библиотеки.\n",
    "\n",
    "2) predict(X_test) - применить модель на тестовом множестве."
   ]
  },
  {
   "cell_type": "code",
   "execution_count": 124,
   "metadata": {},
   "outputs": [],
   "source": [
    "# делим на тренировочное и тестовое множество\n",
    "X_train, X_test, y_train, y_test, country_names_train, country_names_test = \\\n",
    "    train_test_split(X, y, country_names, test_size=0.1)"
   ]
  },
  {
   "cell_type": "code",
   "execution_count": 125,
   "metadata": {},
   "outputs": [
    {
     "data": {
      "text/plain": [
       "LinearRegression(copy_X=True, fit_intercept=True, n_jobs=None,\n",
       "         normalize=False)"
      ]
     },
     "execution_count": 125,
     "metadata": {},
     "output_type": "execute_result"
    }
   ],
   "source": [
    "model.fit(X_train, y_train)"
   ]
  },
  {
   "cell_type": "code",
   "execution_count": 126,
   "metadata": {},
   "outputs": [
    {
     "data": {
      "text/plain": [
       "array([ -632.55496663, 18780.41826754, 23706.83808456,  3852.37853067,\n",
       "        4461.34195633,  5976.37554206, 12421.66744279, 18351.99292101,\n",
       "       10741.44107457,  6333.15529459, 20995.94275411,  -295.40969887,\n",
       "          40.11522416,  4456.98903433,  1824.31734793, 18701.02560259,\n",
       "        8720.55032905, 23327.32805186,  -573.35499849, -3374.639326  ,\n",
       "       14948.66655833,  1080.00332587,  7321.52871783])"
      ]
     },
     "execution_count": 126,
     "metadata": {},
     "output_type": "execute_result"
    }
   ],
   "source": [
    "y_pred = model.predict(X_test)\n",
    "y_pred"
   ]
  },
  {
   "cell_type": "code",
   "execution_count": 127,
   "metadata": {},
   "outputs": [
    {
     "data": {
      "text/plain": [
       "array([ 5600., 27400., 20000.,  5000.,  2700.,  5400.,  7600., 15700.,\n",
       "        5400.,  3300., 37800.,  1000.,  1100.,  2400.,   800., 26700.,\n",
       "        5000.,  8600.,   900.,   800.,  9100.,  3700.,  4900.])"
      ]
     },
     "execution_count": 127,
     "metadata": {},
     "output_type": "execute_result"
    }
   ],
   "source": [
    "y_test"
   ]
  },
  {
   "cell_type": "code",
   "execution_count": 128,
   "metadata": {},
   "outputs": [
    {
     "data": {
      "text/plain": [
       "37015594.70207546"
      ]
     },
     "execution_count": 128,
     "metadata": {},
     "output_type": "execute_result"
    }
   ],
   "source": [
    "# Посчитали MSE\n",
    "\n",
    "MSE(y_test, y_pred)"
   ]
  },
  {
   "cell_type": "code",
   "execution_count": 36,
   "metadata": {},
   "outputs": [
    {
     "data": {
      "text/html": [
       "<div>\n",
       "<style scoped>\n",
       "    .dataframe tbody tr th:only-of-type {\n",
       "        vertical-align: middle;\n",
       "    }\n",
       "\n",
       "    .dataframe tbody tr th {\n",
       "        vertical-align: top;\n",
       "    }\n",
       "\n",
       "    .dataframe thead th {\n",
       "        text-align: right;\n",
       "    }\n",
       "</style>\n",
       "<table border=\"1\" class=\"dataframe\">\n",
       "  <thead>\n",
       "    <tr style=\"text-align: right;\">\n",
       "      <th></th>\n",
       "      <th>Country</th>\n",
       "      <th>real GDP</th>\n",
       "      <th>pred GDP</th>\n",
       "      <th>squared error</th>\n",
       "      <th>error / real</th>\n",
       "    </tr>\n",
       "  </thead>\n",
       "  <tbody>\n",
       "    <tr>\n",
       "      <th>77</th>\n",
       "      <td>Ghana</td>\n",
       "      <td>2200.0</td>\n",
       "      <td>1323.131005</td>\n",
       "      <td>7.688992e+05</td>\n",
       "      <td>0.398577</td>\n",
       "    </tr>\n",
       "    <tr>\n",
       "      <th>9</th>\n",
       "      <td>Armenia</td>\n",
       "      <td>3500.0</td>\n",
       "      <td>6437.826396</td>\n",
       "      <td>8.630824e+06</td>\n",
       "      <td>-0.839379</td>\n",
       "    </tr>\n",
       "    <tr>\n",
       "      <th>20</th>\n",
       "      <td>Belize</td>\n",
       "      <td>4900.0</td>\n",
       "      <td>7568.301465</td>\n",
       "      <td>7.119833e+06</td>\n",
       "      <td>-0.544551</td>\n",
       "    </tr>\n",
       "    <tr>\n",
       "      <th>107</th>\n",
       "      <td>Kenya</td>\n",
       "      <td>1000.0</td>\n",
       "      <td>4491.287556</td>\n",
       "      <td>1.218909e+07</td>\n",
       "      <td>-3.491288</td>\n",
       "    </tr>\n",
       "    <tr>\n",
       "      <th>139</th>\n",
       "      <td>Mongolia</td>\n",
       "      <td>1800.0</td>\n",
       "      <td>4083.846077</td>\n",
       "      <td>5.215953e+06</td>\n",
       "      <td>-1.268803</td>\n",
       "    </tr>\n",
       "    <tr>\n",
       "      <th>216</th>\n",
       "      <td>Uzbekistan</td>\n",
       "      <td>1700.0</td>\n",
       "      <td>1709.269015</td>\n",
       "      <td>8.591464e+01</td>\n",
       "      <td>-0.005452</td>\n",
       "    </tr>\n",
       "    <tr>\n",
       "      <th>51</th>\n",
       "      <td>Cuba</td>\n",
       "      <td>2900.0</td>\n",
       "      <td>6008.058334</td>\n",
       "      <td>9.660027e+06</td>\n",
       "      <td>-1.071744</td>\n",
       "    </tr>\n",
       "    <tr>\n",
       "      <th>65</th>\n",
       "      <td>Ethiopia</td>\n",
       "      <td>700.0</td>\n",
       "      <td>-1121.834556</td>\n",
       "      <td>3.319081e+06</td>\n",
       "      <td>2.602621</td>\n",
       "    </tr>\n",
       "    <tr>\n",
       "      <th>32</th>\n",
       "      <td>Burma</td>\n",
       "      <td>1800.0</td>\n",
       "      <td>-1661.791268</td>\n",
       "      <td>1.198400e+07</td>\n",
       "      <td>1.923217</td>\n",
       "    </tr>\n",
       "    <tr>\n",
       "      <th>10</th>\n",
       "      <td>Aruba</td>\n",
       "      <td>28000.0</td>\n",
       "      <td>20586.567809</td>\n",
       "      <td>5.495898e+07</td>\n",
       "      <td>0.264765</td>\n",
       "    </tr>\n",
       "    <tr>\n",
       "      <th>180</th>\n",
       "      <td>Senegal</td>\n",
       "      <td>1600.0</td>\n",
       "      <td>2383.981832</td>\n",
       "      <td>6.146275e+05</td>\n",
       "      <td>-0.489989</td>\n",
       "    </tr>\n",
       "    <tr>\n",
       "      <th>97</th>\n",
       "      <td>Iraq</td>\n",
       "      <td>1500.0</td>\n",
       "      <td>3260.362877</td>\n",
       "      <td>3.098877e+06</td>\n",
       "      <td>-1.173575</td>\n",
       "    </tr>\n",
       "    <tr>\n",
       "      <th>27</th>\n",
       "      <td>Brazil</td>\n",
       "      <td>7600.0</td>\n",
       "      <td>9680.514558</td>\n",
       "      <td>4.328541e+06</td>\n",
       "      <td>-0.273752</td>\n",
       "    </tr>\n",
       "    <tr>\n",
       "      <th>101</th>\n",
       "      <td>Italy</td>\n",
       "      <td>26700.0</td>\n",
       "      <td>18422.692986</td>\n",
       "      <td>6.851381e+07</td>\n",
       "      <td>0.310011</td>\n",
       "    </tr>\n",
       "    <tr>\n",
       "      <th>156</th>\n",
       "      <td>Pakistan</td>\n",
       "      <td>2100.0</td>\n",
       "      <td>-1232.839371</td>\n",
       "      <td>1.110782e+07</td>\n",
       "      <td>1.587066</td>\n",
       "    </tr>\n",
       "    <tr>\n",
       "      <th>209</th>\n",
       "      <td>Tuvalu</td>\n",
       "      <td>1100.0</td>\n",
       "      <td>4162.909081</td>\n",
       "      <td>9.381412e+06</td>\n",
       "      <td>-2.784463</td>\n",
       "    </tr>\n",
       "    <tr>\n",
       "      <th>142</th>\n",
       "      <td>Mozambique</td>\n",
       "      <td>1200.0</td>\n",
       "      <td>-121.971887</td>\n",
       "      <td>1.747610e+06</td>\n",
       "      <td>1.101643</td>\n",
       "    </tr>\n",
       "    <tr>\n",
       "      <th>100</th>\n",
       "      <td>Israel</td>\n",
       "      <td>19800.0</td>\n",
       "      <td>18833.306327</td>\n",
       "      <td>9.344967e+05</td>\n",
       "      <td>0.048823</td>\n",
       "    </tr>\n",
       "    <tr>\n",
       "      <th>214</th>\n",
       "      <td>United States</td>\n",
       "      <td>37800.0</td>\n",
       "      <td>31638.471018</td>\n",
       "      <td>3.796444e+07</td>\n",
       "      <td>0.163003</td>\n",
       "    </tr>\n",
       "    <tr>\n",
       "      <th>186</th>\n",
       "      <td>Slovenia</td>\n",
       "      <td>19000.0</td>\n",
       "      <td>18898.975027</td>\n",
       "      <td>1.020605e+04</td>\n",
       "      <td>0.005317</td>\n",
       "    </tr>\n",
       "    <tr>\n",
       "      <th>18</th>\n",
       "      <td>Belarus</td>\n",
       "      <td>6100.0</td>\n",
       "      <td>16263.262394</td>\n",
       "      <td>1.032919e+08</td>\n",
       "      <td>-1.666109</td>\n",
       "    </tr>\n",
       "    <tr>\n",
       "      <th>177</th>\n",
       "      <td>San Marino</td>\n",
       "      <td>34600.0</td>\n",
       "      <td>26446.237279</td>\n",
       "      <td>6.648385e+07</td>\n",
       "      <td>0.235658</td>\n",
       "    </tr>\n",
       "    <tr>\n",
       "      <th>185</th>\n",
       "      <td>Slovakia</td>\n",
       "      <td>13300.0</td>\n",
       "      <td>8902.977824</td>\n",
       "      <td>1.933380e+07</td>\n",
       "      <td>0.330603</td>\n",
       "    </tr>\n",
       "  </tbody>\n",
       "</table>\n",
       "</div>"
      ],
      "text/plain": [
       "            Country  real GDP      pred GDP  squared error  error / real\n",
       "77           Ghana     2200.0   1323.131005   7.688992e+05      0.398577\n",
       "9          Armenia     3500.0   6437.826396   8.630824e+06     -0.839379\n",
       "20          Belize     4900.0   7568.301465   7.119833e+06     -0.544551\n",
       "107          Kenya     1000.0   4491.287556   1.218909e+07     -3.491288\n",
       "139       Mongolia     1800.0   4083.846077   5.215953e+06     -1.268803\n",
       "216     Uzbekistan     1700.0   1709.269015   8.591464e+01     -0.005452\n",
       "51            Cuba     2900.0   6008.058334   9.660027e+06     -1.071744\n",
       "65        Ethiopia      700.0  -1121.834556   3.319081e+06      2.602621\n",
       "32           Burma     1800.0  -1661.791268   1.198400e+07      1.923217\n",
       "10           Aruba    28000.0  20586.567809   5.495898e+07      0.264765\n",
       "180        Senegal     1600.0   2383.981832   6.146275e+05     -0.489989\n",
       "97            Iraq     1500.0   3260.362877   3.098877e+06     -1.173575\n",
       "27          Brazil     7600.0   9680.514558   4.328541e+06     -0.273752\n",
       "101          Italy    26700.0  18422.692986   6.851381e+07      0.310011\n",
       "156       Pakistan     2100.0  -1232.839371   1.110782e+07      1.587066\n",
       "209         Tuvalu     1100.0   4162.909081   9.381412e+06     -2.784463\n",
       "142     Mozambique     1200.0   -121.971887   1.747610e+06      1.101643\n",
       "100         Israel    19800.0  18833.306327   9.344967e+05      0.048823\n",
       "214  United States    37800.0  31638.471018   3.796444e+07      0.163003\n",
       "186       Slovenia    19000.0  18898.975027   1.020605e+04      0.005317\n",
       "18         Belarus     6100.0  16263.262394   1.032919e+08     -1.666109\n",
       "177     San Marino    34600.0  26446.237279   6.648385e+07      0.235658\n",
       "185       Slovakia    13300.0   8902.977824   1.933380e+07      0.330603"
      ]
     },
     "execution_count": 36,
     "metadata": {},
     "output_type": "execute_result"
    }
   ],
   "source": [
    "test_data = pd.DataFrame()\n",
    "test_data['Country'] = country_names_test\n",
    "test_data['real GDP'] = y_test\n",
    "test_data['pred GDP'] = y_pred\n",
    "test_data['squared error'] = (y_test - y_pred) ** 2\n",
    "test_data['error / real'] = (y_test - y_pred) / y_test\n",
    "test_data"
   ]
  },
  {
   "cell_type": "markdown",
   "metadata": {},
   "source": [
    "Итого, мы предсказали ВВП со средней квадратичной ошибкой 13 миллионов. Видно, что у многих стран мы сделали это доволно точно.\n",
    "\n",
    "Много это или мало? Давайте сравним с каким-нибудь наивным алгоритмом - всегда предсказывать среднее значение."
   ]
  },
  {
   "cell_type": "code",
   "execution_count": 122,
   "metadata": {},
   "outputs": [
    {
     "data": {
      "text/plain": [
       "135823440.4536862"
      ]
     },
     "execution_count": 122,
     "metadata": {},
     "output_type": "execute_result"
    }
   ],
   "source": [
    "y_pred = np.mean(y_test)\n",
    "MSE(y_test, y_pred)"
   ]
  },
  {
   "cell_type": "markdown",
   "metadata": {},
   "source": [
    "Ну видно, что наш алгоритм работает значительно лучше, чем наивный (у него MSE в несколько раз больше). Наивный алгоритм принято называть **бейзлайном** (baseline)."
   ]
  },
  {
   "cell_type": "markdown",
   "metadata": {},
   "source": [
    "## 7. Как подбираются коэффициенты\n",
    "\n",
    "Вы скорее всего недовольны тем, что самое главное - обучение модели, то есть подбор коэффициентов, происходит магическим образом внутри библиотеки.\n",
    "\n",
    "Причем было аж 2 обмана - сначала непонятно как работала функция polyfit(X, y, deg), теперь непонятно как работает LinearRegression().fit(X, y). Но заметим, что на самом деле эти функции делают одно и то же! И это всего лишь один обман."
   ]
  },
  {
   "cell_type": "code",
   "execution_count": 129,
   "metadata": {},
   "outputs": [],
   "source": [
    "# Заведем функцию 4 степени\n",
    "\n",
    "def g(x):\n",
    "    return x ** 4 - x ** 3 + 4 * x -1\n",
    "\n",
    "X = np.linspace(-1, 1, 10)\n",
    "y = g(X)"
   ]
  },
  {
   "cell_type": "code",
   "execution_count": 130,
   "metadata": {},
   "outputs": [
    {
     "data": {
      "text/plain": [
       "array([-1.        ,  1.01234568,  4.        , -1.11769547])"
      ]
     },
     "execution_count": 130,
     "metadata": {},
     "output_type": "execute_result"
    }
   ],
   "source": [
    "coefs_polyfit = scipy.polyfit(X, y, deg=3)\n",
    "coefs_polyfit"
   ]
  },
  {
   "cell_type": "markdown",
   "metadata": {},
   "source": [
    "Заметим, что формула модели с многочленом ($P(x) = a_0 + a_1x + a_2x^2 + a_3x^3$) очень похожа на формулу для модели линейной регрессии ($m(x_1, x_2, x_3) = a_0 + a_1x_1 + a_2x_2 + a_3x_3$). А именно, это ровно она, примененная для $x, x^2$ и $x^3$. То есть мы будто просто добавили два новых признака, просто взяв квадрат и куб единственного существующего признака, и запустили обычную линейную регрессию. Именно так это и работает."
   ]
  },
  {
   "cell_type": "code",
   "execution_count": 131,
   "metadata": {},
   "outputs": [
    {
     "data": {
      "text/plain": [
       "array([[-1.        ,  1.        , -1.        ],\n",
       "       [-0.77777778,  0.60493827, -0.47050754],\n",
       "       [-0.55555556,  0.30864198, -0.17146776],\n",
       "       [-0.33333333,  0.11111111, -0.03703704],\n",
       "       [-0.11111111,  0.01234568, -0.00137174],\n",
       "       [ 0.11111111,  0.01234568,  0.00137174],\n",
       "       [ 0.33333333,  0.11111111,  0.03703704],\n",
       "       [ 0.55555556,  0.30864198,  0.17146776],\n",
       "       [ 0.77777778,  0.60493827,  0.47050754],\n",
       "       [ 1.        ,  1.        ,  1.        ]])"
      ]
     },
     "execution_count": 131,
     "metadata": {},
     "output_type": "execute_result"
    }
   ],
   "source": [
    "new_X = np.zeros((len(X), 3))\n",
    "new_X[:, 0] = X\n",
    "new_X[:, 1] = X ** 2\n",
    "new_X[:, 2] = X ** 3\n",
    "new_X"
   ]
  },
  {
   "cell_type": "code",
   "execution_count": 132,
   "metadata": {},
   "outputs": [
    {
     "data": {
      "text/plain": [
       "(array([ 4.        ,  1.01234568, -1.        ]), -1.117695473251029)"
      ]
     },
     "execution_count": 132,
     "metadata": {},
     "output_type": "execute_result"
    }
   ],
   "source": [
    "model = LinearRegression()\n",
    "model.fit(new_X, y)\n",
    "coefs_linregression = model.coef_\n",
    "coefs_linregression, model.intercept_"
   ]
  },
  {
   "cell_type": "markdown",
   "metadata": {},
   "source": [
    "Как видим, это ровно тот же самый многочлен (только коэффициенты у них записаны в разном порядке)."
   ]
  },
  {
   "cell_type": "markdown",
   "metadata": {},
   "source": [
    "Осталось только узнать, как работает fit в LinearRegression. Про это можете посмотреть отдельный ноутбук с названием how_works_LinearRegression.ipynb"
   ]
  },
  {
   "cell_type": "markdown",
   "metadata": {},
   "source": [
    "## 8. Регуляризация"
   ]
  },
  {
   "cell_type": "markdown",
   "metadata": {},
   "source": [
    "Вернемся к приближению нашей одномерной функции многочленом."
   ]
  },
  {
   "cell_type": "code",
   "execution_count": 133,
   "metadata": {},
   "outputs": [],
   "source": [
    "def f(x):\n",
    "    return 3 * x ** 3 - 2 * x**2 + x"
   ]
  },
  {
   "cell_type": "code",
   "execution_count": 134,
   "metadata": {},
   "outputs": [
    {
     "data": {
      "text/plain": [
       "[<matplotlib.lines.Line2D at 0x128da1710>]"
      ]
     },
     "execution_count": 134,
     "metadata": {},
     "output_type": "execute_result"
    },
    {
     "data": {
      "image/png": "[encoded data removed]",
      "text/plain": [
       "<Figure size 432x288 with 1 Axes>"
      ]
     },
     "metadata": {
      "needs_background": "light"
     },
     "output_type": "display_data"
    }
   ],
   "source": [
    "x100 = np.linspace(-1, 1, 100)\n",
    "plt.plot(x100, f(x100))"
   ]
  },
  {
   "cell_type": "code",
   "execution_count": 137,
   "metadata": {},
   "outputs": [
    {
     "data": {
      "text/plain": [
       "[<matplotlib.lines.Line2D at 0x1290af2b0>]"
      ]
     },
     "execution_count": 137,
     "metadata": {},
     "output_type": "execute_result"
    },
    {
     "data": {
      "image/png": "[encoded data removed]",
      "text/plain": [
       "<Figure size 432x288 with 1 Axes>"
      ]
     },
     "metadata": {
      "needs_background": "light"
     },
     "output_type": "display_data"
    }
   ],
   "source": [
    "x = np.linspace(-1, 1, 10)\n",
    "y = f(x) + np.random.normal(0, 0.5, 10)\n",
    "coefs = scipy.polyfit(x, y, deg = 9)\n",
    "poly = scipy.poly1d(coefs)\n",
    "plt.scatter(x, y)\n",
    "plt.plot(x100, f(x100))\n",
    "plt.plot(x100, poly(x100))"
   ]
  },
  {
   "cell_type": "markdown",
   "metadata": {},
   "source": [
    "Давайте сильно увеличим число точек в обучающей выборке"
   ]
  },
  {
   "cell_type": "code",
   "execution_count": 138,
   "metadata": {},
   "outputs": [
    {
     "data": {
      "text/plain": [
       "[<matplotlib.lines.Line2D at 0x1057ca9e8>]"
      ]
     },
     "execution_count": 138,
     "metadata": {},
     "output_type": "execute_result"
    },
    {
     "data": {
      "image/png": "[encoded data removed]",
      "text/plain": [
       "<Figure size 432x288 with 1 Axes>"
      ]
     },
     "metadata": {
      "needs_background": "light"
     },
     "output_type": "display_data"
    }
   ],
   "source": [
    "x = np.linspace(-1, 1, 100)\n",
    "y = f(x) + np.random.normal(0, 0.5, 100)\n",
    "coefs = scipy.polyfit(x, y, deg = 9)\n",
    "poly = scipy.poly1d(coefs)\n",
    "plt.scatter(x, y)\n",
    "plt.plot(x, f(x))\n",
    "plt.plot(x, poly(x))"
   ]
  },
  {
   "cell_type": "markdown",
   "metadata": {},
   "source": [
    "Выглядит, как почти точное соответствие нашей исходной функции. Но является ли это приближение хорошим? Давайте посмотрим на коэффициенты получившегося многочлена"
   ]
  },
  {
   "cell_type": "code",
   "execution_count": 139,
   "metadata": {},
   "outputs": [
    {
     "data": {
      "text/plain": [
       "array([-4.47796462e+01, -7.96427919e+00,  9.81441669e+01,  1.79046811e+01,\n",
       "       -7.06591892e+01, -1.22323116e+01,  2.18234500e+01,  4.98623976e-01,\n",
       "       -4.95455790e-01, -7.85897725e-02])"
      ]
     },
     "execution_count": 139,
     "metadata": {},
     "output_type": "execute_result"
    }
   ],
   "source": [
    "coefs"
   ]
  },
  {
   "cell_type": "markdown",
   "metadata": {},
   "source": [
    "Получается, что в нашем приближении коэффициент при $x^9$ равен $-2.9$, а коэффициент при $x^7$ равен $17.1$ (у вас могли получиться другие числа). Ясно, что это на самом деле очень странный многочлен, который чисто случайно почти совпадает с нашим многочленом на интересующем нас отрезке. "
   ]
  },
  {
   "cell_type": "markdown",
   "metadata": {},
   "source": [
    "**Обязательное задание 4:** постройте график аналогичный предыдущему на большем отрезке и убедитесь, что вне отрезка $[-1, 1]$ получившийся полином очень не похож на наш исходный.\n",
    "\n",
    "Рекомендую выбрать отрезок $[-1.4, 1.4]$, чтобы на графике хоть что-то было видно."
   ]
  },
  {
   "cell_type": "code",
   "execution_count": 150,
   "metadata": {},
   "outputs": [
    {
     "data": {
      "text/plain": [
       "[<matplotlib.lines.Line2D at 0x129c7dd30>]"
      ]
     },
     "execution_count": 150,
     "metadata": {},
     "output_type": "execute_result"
    },
    {
     "data": {
      "image/png": "[encoded data removed]",
      "text/plain": [
       "<Figure size 432x288 with 1 Axes>"
      ]
     },
     "metadata": {
      "needs_background": "light"
     },
     "output_type": "display_data"
    }
   ],
   "source": [
    "# место для решения\n",
    "\n",
    "bigX = np.linspace(-1.4, 1.4, 100)\n",
    "plt.plot(bigX, f(bigX))\n",
    "plt.plot(bigX, poly(bigX))\n"
   ]
  },
  {
   "cell_type": "code",
   "execution_count": null,
   "metadata": {},
   "outputs": [],
   "source": [
    "#как видим, предсказанный многочлен с большой степенью совсем не похож на исходный"
   ]
  },
  {
   "cell_type": "markdown",
   "metadata": {},
   "source": [
    "Это общая проблема - как правило экстраполировать (обобщать знания в сторону значений, которые мы раньше не встречали) гораздо сложнее чем интерполировать (обощать данные внутри интервала, где у нас есть примеры).\n",
    "<img src=\"https://imgs.xkcd.com/comics/extrapolating.png\">"
   ]
  },
  {
   "cell_type": "markdown",
   "metadata": {},
   "source": [
    "**Обязательное задание 5:** проделайте все то же самое, но не используйте точки от $[0, 0.5]$ для обучения. \n",
    "\n",
    "Совет: такие точеки можно сгенерировать вот так: "
   ]
  },
  {
   "cell_type": "code",
   "execution_count": 154,
   "metadata": {},
   "outputs": [],
   "source": [
    "x = np.linspace(-1, 1, 200)\n",
    "x = x[(x < 0) + (x > 0.5)] # Подумайте, почему это работает"
   ]
  },
  {
   "cell_type": "code",
   "execution_count": 174,
   "metadata": {},
   "outputs": [],
   "source": [
    "# место для решения\n",
    "y = f(x) + np.random.normal(0, 0.5, np.size(x))\n",
    "\n",
    "def n5(inp_deg) :\n",
    "    print('deg = {}'.format(inp_deg))\n",
    "    coefs = scipy.polyfit(x, y, deg = inp_deg)\n",
    "    poly = scipy.poly1d(coefs)\n",
    "    plt.scatter(x, y, marker='.')\n",
    "    plt.plot(x100, f(x100))\n",
    "    plt.plot(x100, poly(x100))\n",
    "    plt.show()"
   ]
  },
  {
   "cell_type": "code",
   "execution_count": 178,
   "metadata": {},
   "outputs": [
    {
     "name": "stdout",
     "output_type": "stream",
     "text": [
      "deg = 1\n"
     ]
    },
    {
     "data": {
      "image/png": "[encoded data removed]",
      "text/plain": [
       "<Figure size 432x288 with 1 Axes>"
      ]
     },
     "metadata": {
      "needs_background": "light"
     },
     "output_type": "display_data"
    },
    {
     "name": "stdout",
     "output_type": "stream",
     "text": [
      "deg = 2\n"
     ]
    },
    {
     "data": {
      "image/png": "[encoded data removed]",
      "text/plain": [
       "<Figure size 432x288 with 1 Axes>"
      ]
     },
     "metadata": {
      "needs_background": "light"
     },
     "output_type": "display_data"
    },
    {
     "name": "stdout",
     "output_type": "stream",
     "text": [
      "deg = 3\n"
     ]
    },
    {
     "data": {
      "image/png": "[encoded data removed]",
      "text/plain": [
       "<Figure size 432x288 with 1 Axes>"
      ]
     },
     "metadata": {
      "needs_background": "light"
     },
     "output_type": "display_data"
    },
    {
     "name": "stdout",
     "output_type": "stream",
     "text": [
      "deg = 4\n"
     ]
    },
    {
     "data": {
      "image/png": "[encoded data removed]",
      "text/plain": [
       "<Figure size 432x288 with 1 Axes>"
      ]
     },
     "metadata": {
      "needs_background": "light"
     },
     "output_type": "display_data"
    },
    {
     "name": "stdout",
     "output_type": "stream",
     "text": [
      "deg = 5\n"
     ]
    },
    {
     "data": {
      "image/png": "[encoded data removed]",
      "text/plain": [
       "<Figure size 432x288 with 1 Axes>"
      ]
     },
     "metadata": {
      "needs_background": "light"
     },
     "output_type": "display_data"
    },
    {
     "name": "stdout",
     "output_type": "stream",
     "text": [
      "deg = 6\n"
     ]
    },
    {
     "data": {
      "image/png": "[encoded data removed]",
      "text/plain": [
       "<Figure size 432x288 with 1 Axes>"
      ]
     },
     "metadata": {
      "needs_background": "light"
     },
     "output_type": "display_data"
    },
    {
     "name": "stdout",
     "output_type": "stream",
     "text": [
      "deg = 7\n"
     ]
    },
    {
     "data": {
      "image/png": "[encoded data removed]",
      "text/plain": [
       "<Figure size 432x288 with 1 Axes>"
      ]
     },
     "metadata": {
      "needs_background": "light"
     },
     "output_type": "display_data"
    },
    {
     "name": "stdout",
     "output_type": "stream",
     "text": [
      "deg = 8\n"
     ]
    },
    {
     "data": {
      "image/png": "[encoded data removed]",
      "text/plain": [
       "<Figure size 432x288 with 1 Axes>"
      ]
     },
     "metadata": {
      "needs_background": "light"
     },
     "output_type": "display_data"
    },
    {
     "name": "stdout",
     "output_type": "stream",
     "text": [
      "deg = 9\n"
     ]
    },
    {
     "data": {
      "image/png": "[encoded data removed]",
      "text/plain": [
       "<Figure size 432x288 with 1 Axes>"
      ]
     },
     "metadata": {
      "needs_background": "light"
     },
     "output_type": "display_data"
    },
    {
     "name": "stdout",
     "output_type": "stream",
     "text": [
      "deg = 10\n"
     ]
    },
    {
     "data": {
      "image/png": "[encoded data removed]",
      "text/plain": [
       "<Figure size 432x288 with 1 Axes>"
      ]
     },
     "metadata": {
      "needs_background": "light"
     },
     "output_type": "display_data"
    },
    {
     "name": "stdout",
     "output_type": "stream",
     "text": [
      "deg = 11\n"
     ]
    },
    {
     "data": {
      "image/png": "[encoded data removed]",
      "text/plain": [
       "<Figure size 432x288 with 1 Axes>"
      ]
     },
     "metadata": {
      "needs_background": "light"
     },
     "output_type": "display_data"
    }
   ],
   "source": [
    "for i in range(1, 12) :\n",
    "    n5(i)\n",
    "    "
   ]
  },
  {
   "cell_type": "code",
   "execution_count": 179,
   "metadata": {},
   "outputs": [],
   "source": [
    "'''\n",
    "на степени 7 уже начинает съезжать\n",
    "\n",
    "\n",
    "'''\n"
   ]
  },
  {
   "cell_type": "markdown",
   "metadata": {},
   "source": [
    "Убедитесь, что для полинома высокой степени на пропущенном кусочке получается полная ерунда (начиная с какой степени становится плохо? От чего это зависит?)"
   ]
  },
  {
   "cell_type": "markdown",
   "metadata": {},
   "source": [
    "Для того, чтобы бороться с такими проблемами - слишком сложная модель там, где хватило бы и более простой - есть трюк под названием **регуляризация**.\n",
    "\n",
    "Мы стараемся минимизировать не только суммарную ошибку $\\sum(f(x_i) - P(x_i))^2$ но и сложность модели. Что такое сложность модели можно определять по разному, но одним из хороших вариантов может быть сумма квадратов коэффициентов многочлена. Таким образом мы будем пытаться оптимизировать функцию такого вида: $$ \\sum (f(x_i) -P(x_i))^2 + \\alpha \\sum a_i^2$$\n",
    "\n",
    "Коэффициент $\\alpha$ отвечает за то, насколько много внимания мы обращаем на сложность. К сожалению функция polyfit не умеет подбирать параметры в такой постановке, но зато есть аналог LinearRegression, который делает то же самое."
   ]
  },
  {
   "cell_type": "code",
   "execution_count": 180,
   "metadata": {},
   "outputs": [],
   "source": [
    "from sklearn.linear_model import Ridge\n",
    "model = Ridge()"
   ]
  },
  {
   "cell_type": "markdown",
   "metadata": {},
   "source": [
    "Этот класс реализует Ридж-регрессию, то есть подбирает коэффициенты в линейной функции с учетом регуляризации, описанной в предыдущем абзаце. При этом у каждой точки может быть сколько угодно координат. Поскольку мы хотим получить в итоге полином, для каждой точке мы сделаем координаты $x, x^2, x^3, \\dots, x^n$."
   ]
  },
  {
   "cell_type": "code",
   "execution_count": 181,
   "metadata": {},
   "outputs": [
    {
     "data": {
      "text/plain": [
       "Ridge(alpha=100, copy_X=True, fit_intercept=True, max_iter=None,\n",
       "   normalize=False, random_state=None, solver='auto', tol=0.001)"
      ]
     },
     "execution_count": 181,
     "metadata": {},
     "output_type": "execute_result"
    }
   ],
   "source": [
    "n_dots = 100\n",
    "deg = 10\n",
    "model = Ridge(alpha=100)\n",
    "x = np.linspace(-1, 1, n_dots)\n",
    "y = f(x) + np.random.normal(0.0, 1.0, n_dots)\n",
    "\n",
    "X = [[t ** i for i in range(1, deg+1)] for t in x]\n",
    "model.fit(X, y)"
   ]
  },
  {
   "cell_type": "code",
   "execution_count": 182,
   "metadata": {},
   "outputs": [
    {
     "data": {
      "text/plain": [
       "array([ 0.60828315, -0.13476217,  0.45119968, -0.10841543,  0.36321925,\n",
       "       -0.08952403,  0.30676083, -0.07652565,  0.26724474, -0.06705236])"
      ]
     },
     "execution_count": 182,
     "metadata": {},
     "output_type": "execute_result"
    }
   ],
   "source": [
    "model.coef_"
   ]
  },
  {
   "cell_type": "code",
   "execution_count": 183,
   "metadata": {},
   "outputs": [
    {
     "data": {
      "text/plain": [
       "[<matplotlib.lines.Line2D at 0x12a133be0>]"
      ]
     },
     "execution_count": 183,
     "metadata": {},
     "output_type": "execute_result"
    },
    {
     "data": {
      "image/png": "[encoded data removed]",
      "text/plain": [
       "<Figure size 432x288 with 1 Axes>"
      ]
     },
     "metadata": {
      "needs_background": "light"
     },
     "output_type": "display_data"
    }
   ],
   "source": [
    "x100 = np.linspace(-1.4, 1.4, 100)\n",
    "X100 = [[t ** i for i in range(1, deg+1)] for t in x100]\n",
    "plt.scatter(x,y)\n",
    "plt.plot(x100, f(x100))\n",
    "plt.plot(x100, model.predict(X100))"
   ]
  },
  {
   "cell_type": "markdown",
   "metadata": {},
   "source": [
    "Как видим, стало чуть лучше на выходе с границ."
   ]
  },
  {
   "cell_type": "markdown",
   "metadata": {},
   "source": [
    "**Обязательное задание 6:** разберитесь, что происходит в предыдущих блоках."
   ]
  },
  {
   "cell_type": "markdown",
   "metadata": {},
   "source": [
    "**(1 балл) Доп. задача 7:** посмотрите, удастся ли вам с помощью регуляризации исправить проблему в случае, когда есть внутренняя область в которой нет учебных данных.\n"
   ]
  },
  {
   "cell_type": "code",
   "execution_count": 198,
   "metadata": {},
   "outputs": [],
   "source": [
    "# место для решения\n",
    "x = np.linspace(-1, 1, 100)\n",
    "x = x[(x < 0) + (x > 0.5)]\n",
    "n_dots = np.size(x)"
   ]
  },
  {
   "cell_type": "code",
   "execution_count": 204,
   "metadata": {},
   "outputs": [
    {
     "data": {
      "text/plain": [
       "Ridge(alpha=100, copy_X=True, fit_intercept=True, max_iter=None,\n",
       "   normalize=False, random_state=None, solver='auto', tol=0.001)"
      ]
     },
     "execution_count": 204,
     "metadata": {},
     "output_type": "execute_result"
    }
   ],
   "source": [
    "deg = 10\n",
    "model = Ridge(alpha=100)\n",
    "y = f(x) + np.random.normal(0.0, 1.0, n_dots)\n",
    "\n",
    "X = [[t ** i for i in range(1, deg+1)] for t in x]\n",
    "model.fit(X, y)"
   ]
  },
  {
   "cell_type": "code",
   "execution_count": 200,
   "metadata": {},
   "outputs": [
    {
     "data": {
      "text/plain": [
       "[<matplotlib.lines.Line2D at 0x12c261208>]"
      ]
     },
     "execution_count": 200,
     "metadata": {},
     "output_type": "execute_result"
    },
    {
     "data": {
      "image/png": "[encoded data removed]",
      "text/plain": [
       "<Figure size 432x288 with 1 Axes>"
      ]
     },
     "metadata": {
      "needs_background": "light"
     },
     "output_type": "display_data"
    }
   ],
   "source": [
    "x100 = np.linspace(-1.4, 1.4, 100)\n",
    "X100 = [[t ** i for i in range(1, deg+1)] for t in x100]\n",
    "plt.scatter(x,y)\n",
    "plt.plot(x100, f(x100))\n",
    "plt.plot(x100, model.predict(X100))"
   ]
  },
  {
   "cell_type": "code",
   "execution_count": 193,
   "metadata": {},
   "outputs": [],
   "source": [
    "# получилось довольно хорошо"
   ]
  },
  {
   "cell_type": "markdown",
   "metadata": {},
   "source": [
    "**(1 балл) Доп. задача 8**: постройте график ошибки на тесте в зависимости от значения параметра регуляризации. Попробуйте выбрать оптимальное значение этого параметра с помощью кросс-валидации."
   ]
  },
  {
   "cell_type": "code",
   "execution_count": 212,
   "metadata": {},
   "outputs": [
    {
     "ename": "SyntaxError",
     "evalue": "invalid syntax (<ipython-input-212-b009996ced69>, line 16)",
     "output_type": "error",
     "traceback": [
      "\u001b[0;36m  File \u001b[0;32m\"<ipython-input-212-b009996ced69>\"\u001b[0;36m, line \u001b[0;32m16\u001b[0m\n\u001b[0;31m    plt.show()\u001b[0m\n\u001b[0m      ^\u001b[0m\n\u001b[0;31mSyntaxError\u001b[0m\u001b[0;31m:\u001b[0m invalid syntax\n"
     ]
    }
   ],
   "source": [
    "# место для решения\n",
    "\n",
    "x = np.linspace(-1, 1, 100)\n",
    "n_dots = np.size(x)\n",
    "\n",
    "y = f(x) + np.random.normal(0.0, 1.0, n_dots)\n",
    "\n",
    "\n",
    "\n",
    "for deg in range(1, 5) :\n",
    "    model = Ridge(alpha=100)\n",
    "    X = [[t ** i for i in range(1, deg+1)] for t in x]\n",
    "    model.fit(X, y)\n",
    "\n",
    "    plt.plot(deg, MSE(x100, model.predict(X100))   #не получилось (((\n",
    "    plt.show()"
   ]
  },
  {
   "cell_type": "code",
   "execution_count": null,
   "metadata": {},
   "outputs": [],
   "source": []
  }
 ],
 "metadata": {
  "kernelspec": {
   "display_name": "Python 3",
   "language": "python",
   "name": "python3"
  },
  "language_info": {
   "codemirror_mode": {
    "name": "ipython",
    "version": 3
   },
   "file_extension": ".py",
   "mimetype": "text/x-python",
   "name": "python",
   "nbconvert_exporter": "python",
   "pygments_lexer": "ipython3",
   "version": "3.6.3"
  }
 },
 "nbformat": 4,
 "nbformat_minor": 2
}
