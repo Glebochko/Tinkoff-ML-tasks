{
 "cells": [
  {
   "cell_type": "markdown",
   "metadata": {},
   "source": [
    "# ML T-Generation Занятие 3: Линейная регрессия.\n",
    "# Проблема переобучения. Кросс-валидация и регуляризация.\n",
    "\n",
    "Автор: Гаркавый Андрей (andrewgarkavyy@gmail.com)\n",
    "\n",
    "\n",
    "## 0. План\n",
    "\n",
    "1. Приближение одномерной функции многочленом\n",
    "\n",
    "2. Переобучение\n",
    "\n",
    "3. Выводы\n",
    "\n",
    "4. Разделение на тренировочную и тестовую части\n",
    "\n",
    "5. Кросс-валидация\n",
    "\n",
    "6. Линейная регрессия\n",
    "\n",
    "7. Как подбираются коэффициенты\n",
    "\n",
    "8. Регуляризация\n",
    "\n",
    "## 1. Приближение одномерной функции многочленом\n",
    "\n",
    "Начнем с простой задачи.\n",
    "\n",
    "\n",
    "1) Есть функция $f(x)$, но мы ее не знаем.\n",
    "\n",
    "2) Зато мы знаем ее значения в $m$ точках (они называются тренировочным множеством):\n",
    "$$f(x_1) = y_1$$\n",
    "$$\\cdots$$\n",
    "$$f(x_m) = y_m$$\n",
    "3) Нужно научиться приблизительно восстанавливать эту функцию."
   ]
  },
  {
   "cell_type": "markdown",
   "metadata": {},
   "source": [
    "Самый простой способ - научиться приближать её многочленом, а именно давайте подберем такие коэффициенты $a_0, a_1, \\ldots, a_n$, чтобы многочлен $P(x) = a_0 + a_1x + a_2x^2 + \\ldots + a_nx^n$ был как можно ближе к $f(x)$."
   ]
  },
  {
   "cell_type": "markdown",
   "metadata": {},
   "source": [
    "Но что такое \"приблизить\"? Мы знаем лишь значения в $m$ точках, так что в лучшем случае она должна проходить через все эти точки (хотя скоро мы увидим, что это не так)."
   ]
  },
  {
   "cell_type": "markdown",
   "metadata": {},
   "source": [
    "В этом случае обычно пытаются минимизировать сумму квадратов ошибок во всех точках, то есть **функцию потерь** $$L(P) = \\sum_i (P(x_i) - f(x_i))^2 $$\n",
    "\n",
    "Эту величину называют **MSE** - Mean Squared Error (средняя квадратичная ошибка)."
   ]
  },
  {
   "cell_type": "markdown",
   "metadata": {},
   "source": [
    "Тут может возникнуть вопрос, почему мы берем именно сумму квадратов, а не, например, сумму модулей. Однозначного ответа на этот вопрос нет, наиболее удачный ответ, пожалуй такой: у суммы квадратов есть много удобных свойств, например это выпуклая, дифференцируемая функция. Тем не менее иногда другой выбор может быть оправданным. Если вам интересно чуть больше понять про смысл этих условий, можете решить такие задачи:\n",
    "\n",
    "**(0.5 балла) Доп. Задача 1.** Найдите число m такое, что для заданных $x_i$ сумма $\\sum|m - x_i|$ минимальна\n",
    "\n",
    "<место для решения>\n",
    "\n",
    "**(0.5 балла) Доп. Задача 2.** Найдите число m такое, что для заданных $x_i$ сумма $\\sum(m - x_i)^2$ минимальна\n",
    "\n",
    "\n",
    "<место для решения>\n",
    "\n",
    "**(0.5 балла) Доп. Задача 3.** Для какого набора чисел $a_i$, таких что $\\sum a_i = 1$ величина $\\sum a_i^2$ минимальна?\n",
    "\n",
    "\n",
    "<место для решения>\n",
    "\n",
    "**(0.5 балла) Доп. Задача 4.** Для какого набора чисел $a_i$, таких что $\\sum a_i = 1$ величина $\\sum \\sqrt{a_i}$ минимальна?\n",
    "\n",
    "<место для решения>\n",
    "\n",
    "Сейчас можно их и пропустить.\n"
   ]
  },
  {
   "cell_type": "markdown",
   "metadata": {},
   "source": [
    "В питоне есть пакет scipy, в котором как раз есть решение этой задаче - подбор такого многочлена для заданных точек, что среднеквадратичная ошибка минимальна.\n",
    "\n",
    "Чтобы им пользоваться, вам нужно ввести в консоли Анаконды `conda install scipy`."
   ]
  },
  {
   "cell_type": "code",
   "execution_count": 19,
   "metadata": {},
   "outputs": [],
   "source": [
    "import scipy\n",
    "import numpy as np\n",
    "import pandas as pd\n",
    "%matplotlib inline\n",
    "from matplotlib import pyplot as plt"
   ]
  },
  {
   "cell_type": "markdown",
   "metadata": {},
   "source": [
    "Сначала просто нарисуем какой-нибудь многочлен, например $f(x) = 3x^3 - 2x^2 + x$ на отрезке $[-1, 1]$:"
   ]
  },
  {
   "cell_type": "code",
   "execution_count": 4,
   "metadata": {},
   "outputs": [],
   "source": [
    "def f(x):\n",
    "    return 3 * x ** 3 - 2 * x**2 + x"
   ]
  },
  {
   "cell_type": "code",
   "execution_count": 5,
   "metadata": {},
   "outputs": [
    {
     "data": {
      "text/plain": [
       "[<matplotlib.lines.Line2D at 0x7f9953a00208>]"
      ]
     },
     "execution_count": 5,
     "metadata": {},
     "output_type": "execute_result"
    },
    {
     "data": {
      "image/png": "[encoded data removed]",
      "text/plain": [
       "<Figure size 432x288 with 1 Axes>"
      ]
     },
     "metadata": {
      "needs_background": "light"
     },
     "output_type": "display_data"
    }
   ],
   "source": [
    "x100 = np.linspace(-1, 1, 100)\n",
    "plt.plot(x100, f(x100))"
   ]
  },
  {
   "cell_type": "markdown",
   "metadata": {},
   "source": [
    "Теперь зададим набор точек (10 штук) и посмотрим что будет, если подобрать по ним коэффициенты нашего многочлена:"
   ]
  },
  {
   "cell_type": "code",
   "execution_count": 6,
   "metadata": {},
   "outputs": [
    {
     "data": {
      "text/plain": [
       "array([-2.00000000e+00,  3.17037037e+00, -8.42600032e-16])"
      ]
     },
     "execution_count": 6,
     "metadata": {},
     "output_type": "execute_result"
    }
   ],
   "source": [
    "x = np.linspace(-1, 1, 10)  # 10 точек на отрезке [-1, 1]\n",
    "y = f(x)\n",
    "coefs = scipy.polyfit(x, y, deg = 2)\n",
    "coefs"
   ]
  },
  {
   "cell_type": "markdown",
   "metadata": {},
   "source": [
    "(это означает многочлен $-2x^2 + 3.17037 x$)"
   ]
  },
  {
   "cell_type": "markdown",
   "metadata": {},
   "source": [
    "scipy позволяет легко работать с многочленами, заданными их коэффициентами. Мы можем создать из них объект poly1d, который можно будет просто вызывать для получения нужных значений:"
   ]
  },
  {
   "cell_type": "code",
   "execution_count": 7,
   "metadata": {},
   "outputs": [
    {
     "data": {
      "text/plain": [
       "(-8.426000324584082e-16, 1.1703703703703712, -1.6592592592592563)"
      ]
     },
     "execution_count": 7,
     "metadata": {},
     "output_type": "execute_result"
    }
   ],
   "source": [
    "poly = scipy.poly1d(coefs)\n",
    "poly(0), poly(1), poly(2)"
   ]
  },
  {
   "cell_type": "code",
   "execution_count": 8,
   "metadata": {},
   "outputs": [
    {
     "data": {
      "text/plain": [
       "[<matplotlib.lines.Line2D at 0x7f995397ea58>]"
      ]
     },
     "execution_count": 8,
     "metadata": {},
     "output_type": "execute_result"
    },
    {
     "data": {
      "image/png": "[encoded data removed]",
      "text/plain": [
       "<Figure size 432x288 with 1 Axes>"
      ]
     },
     "metadata": {
      "needs_background": "light"
     },
     "output_type": "display_data"
    }
   ],
   "source": [
    "plt.scatter(x, y)\n",
    "plt.plot(x100, f(x100))\n",
    "plt.plot(x100, poly(x100))"
   ]
  },
  {
   "cell_type": "markdown",
   "metadata": {},
   "source": [
    "Довольно ожидаемо, наша функция не очень похожа на то, что мы искали. Наверное зря мы пытаемся приблизить кубическую функцию многочленом второй степени. Давайте попробуем 3-ю степень."
   ]
  },
  {
   "cell_type": "code",
   "execution_count": 9,
   "metadata": {},
   "outputs": [
    {
     "data": {
      "text/plain": [
       "[<matplotlib.lines.Line2D at 0x7f9953954fd0>]"
      ]
     },
     "execution_count": 9,
     "metadata": {},
     "output_type": "execute_result"
    },
    {
     "data": {
      "image/png": "[encoded data removed]",
      "text/plain": [
       "<Figure size 432x288 with 1 Axes>"
      ]
     },
     "metadata": {
      "needs_background": "light"
     },
     "output_type": "display_data"
    }
   ],
   "source": [
    "coefs = scipy.polyfit(x, y, deg = 3)\n",
    "poly = scipy.poly1d(coefs)\n",
    "plt.scatter(x, y)\n",
    "plt.plot(x100, f(x100))\n",
    "plt.plot(x100, poly(x100))"
   ]
  },
  {
   "cell_type": "markdown",
   "metadata": {},
   "source": [
    "На этот раз мы в точности угадали функцию. Можете проверить, что если увеличивать степень многочлена, результат не меняется: более высокие степени тут просто не нужны.\n",
    "\n",
    "Но мы сейчас жили в идеальном мире. На практике чаще всего известные нам значения не совсем точны. Давайте добавим к значениям нашей функции немного шума:"
   ]
  },
  {
   "cell_type": "code",
   "execution_count": 10,
   "metadata": {},
   "outputs": [],
   "source": [
    "x = np.linspace(-1, 1, 10)\n",
    "y = f(x) + np.random.normal(0, 0.5, 10)  # случайный шум"
   ]
  },
  {
   "cell_type": "code",
   "execution_count": 11,
   "metadata": {},
   "outputs": [
    {
     "data": {
      "text/plain": [
       "[<matplotlib.lines.Line2D at 0x7f995391beb8>]"
      ]
     },
     "execution_count": 11,
     "metadata": {},
     "output_type": "execute_result"
    },
    {
     "data": {
      "image/png": "[encoded data removed]",
      "text/plain": [
       "<Figure size 432x288 with 1 Axes>"
      ]
     },
     "metadata": {
      "needs_background": "light"
     },
     "output_type": "display_data"
    }
   ],
   "source": [
    "coefs = scipy.polyfit(x, y, deg = 3)\n",
    "poly = scipy.poly1d(coefs)\n",
    "plt.scatter(x, y)\n",
    "plt.plot(x100, f(x100))\n",
    "plt.plot(x100, poly(x100))"
   ]
  },
  {
   "cell_type": "markdown",
   "metadata": {},
   "source": [
    "Теперь мы почти попали. Перед тем как читать дальше, подумайте над заданием.\n",
    "\n",
    "**Обязательное задание 1:** попробуйте увеличить степень полинома. Что произойдет с графиком нашего приближения? Попробуйте сформулировать проблему, с которой мы столкнулись. Какие требование к нашему многочлену нам надо предъявлять, чтобы решить эту проблему?"
   ]
  },
  {
   "cell_type": "code",
   "execution_count": 12,
   "metadata": {},
   "outputs": [],
   "source": [
    "# Место для решения"
   ]
  },
  {
   "cell_type": "code",
   "execution_count": null,
   "metadata": {},
   "outputs": [],
   "source": []
  },
  {
   "cell_type": "code",
   "execution_count": null,
   "metadata": {},
   "outputs": [],
   "source": []
  },
  {
   "cell_type": "markdown",
   "metadata": {},
   "source": [
    "## 2. Переобучение"
   ]
  },
  {
   "cell_type": "markdown",
   "metadata": {},
   "source": [
    "То, что вы увидели при решении этого задания называется в машинном обучении **переобучением** (overfittig).\n",
    "\n",
    "Если мы используем достаточно сложную модель (то есть модель, у которой много параметров, в нашем случае -- многочлен достаточно высокой степени), то у модели появляется возможность \"выучить\" все точки, которые она видела. Например, если задано $m$ точек, всегда можно подобрать многочлен степени $m-1$, который через них проходит (если вы не знакомы с этим фактом, можете подумать, как его доказать).\n"
   ]
  },
  {
   "cell_type": "markdown",
   "metadata": {},
   "source": [
    "\"Честный\" способ проверять качество нашей апроксимации -- **смотреть точность в точках, которые мы не использовали при подборе многочлена**. Это множество часто называют тестовым множеством. Давайте зададим его так:"
   ]
  },
  {
   "cell_type": "code",
   "execution_count": 13,
   "metadata": {},
   "outputs": [
    {
     "data": {
      "text/plain": [
       "array([ 0.16798208,  0.49301181, -0.07504912,  0.09517795,  0.56885685,\n",
       "        0.04188809,  0.96437604,  0.51822692,  0.04453867, -0.97065983])"
      ]
     },
     "execution_count": 13,
     "metadata": {},
     "output_type": "execute_result"
    }
   ],
   "source": [
    "# возьмем 10 случайных точек от 0 до 1\n",
    "x_test = np.random.random(10) \n",
    "\n",
    "# превратим их в 10 случайных точек от -1 до 1\n",
    "x_test = 2 * x_test - 1\n",
    "x_test"
   ]
  },
  {
   "cell_type": "markdown",
   "metadata": {},
   "source": [
    "**Обязательное задание 2:** напишите функцию, которая для данного многочлена считает его качество на тестовом множестве (то есть среднеквадратичное отклонение между значениями функции $f$ и многочлена $P$ на тестовой выборке).\n",
    "\n",
    "Вы все прошлое занятие изучали разные функции, попробуйте сделать MSE как можно более компактной функцией (желательно в одну строчку)."
   ]
  },
  {
   "cell_type": "code",
   "execution_count": 15,
   "metadata": {},
   "outputs": [],
   "source": [
    "# y_real - это np.array c реальными значениями в точках\n",
    "# y_pred - это np.array c предсказанными нами значениями в точках\n",
    "# они одной длины\n",
    "def MSE(y_real, y_pred):\n",
    "    pass  # реализуйте функцию"
   ]
  },
  {
   "cell_type": "markdown",
   "metadata": {},
   "source": [
    "**Обязательное задание 3:** нарисуйте график зависимости ошибки на тестовом множестве от степени многочлена. При какой степени ошибка минимальна?\n"
   ]
  },
  {
   "cell_type": "code",
   "execution_count": null,
   "metadata": {},
   "outputs": [],
   "source": [
    "# место для решения"
   ]
  },
  {
   "cell_type": "code",
   "execution_count": null,
   "metadata": {},
   "outputs": [],
   "source": []
  },
  {
   "cell_type": "markdown",
   "metadata": {},
   "source": [
    "**(1 балл) Доп. задача 5:** как меняется график, если увеличивать количество точек в множестве, на котором мы подбираем многочлен?"
   ]
  },
  {
   "cell_type": "code",
   "execution_count": 16,
   "metadata": {},
   "outputs": [],
   "source": [
    "# место для решения"
   ]
  },
  {
   "cell_type": "markdown",
   "metadata": {},
   "source": [
    "## 3. Выводы\n",
    "\n",
    "1) Цель машинного обучения с учителем - приблизить **целевую функцию** (target) по её значениям (возможно приблзительным) в некоторых точках.\n",
    "\n",
    "В нашем случае - это $f(x) = 3x^3 - 2x^2 + x$. Обычно она, конечно, никому неизвестна.\n",
    "\n",
    "2) Множество точек с известным значением функции называется **тренировочным множеством** (train).\n",
    "\n",
    "В нашем случае - это 10 точек, выбранных равномерно на отрезке $[-1, 1]$.\n",
    "\n",
    "3) Чтобы приблизить функцию, нужно использовать какую-то **модель** (model), приближающую функцию.\n",
    "\n",
    "В данном случае - это многочлен $P(x) = a_0 + a_1x + a_2x^2 + \\ldots + a_nx^n$.\n",
    "\n",
    "4) Мы выбираем **функцию потерь** (loss function) для сравнения результатов модели и реальных значения на тренировочном множестве. Чем она меньше, тем лучше наша модель.\n",
    "\n",
    "В данном случае - это $MSE = \\sum_i (P(x_i) - f(x_i))^2$.\n",
    "\n",
    "5) У модели есть **параметры**, которые мы выбираем так, чтобы функция потерь на тренировочном множестве была минимальна.\n",
    "\n",
    "В данном случае - это коэффициенты многочлена ($a_0, a_1, \\ldots, a_n$). Выбираются они с помощью пока магической для нас функции polyfit.\n",
    "\n",
    "6) У модели есть **гиперпараметры**, которые мы выбираем сами.\n",
    "\n",
    "В данном случае - это степень многочлена (число $n$).\n",
    "\n",
    "7) Однако такой подход с минимизацией функции потерь может привести к тому, что мы идеально приблизим функцию на тренировочном множестве, но она будет абсолютно отличаться во всех остальных точках. Это явление называется **переобучением**.\n",
    "\n",
    "В данном случае - мы видели, что если степень многочлена большая (больше трех), то мы попадаем во все точки, но при этом сам многочлен сильно отличается от $f(x)$.\n",
    "\n",
    "8) Чтобы бороться с переобучением, полезно выделить **тестовое множество** точек, в которых мы тоже знаем результаты функции. Оно никак не используется при обучении модели, и нужно только для валидации результата.\n",
    "\n",
    "В данном случае - мы взяли рандомные 10 точек на отрезке $[-1, 1]$.\n",
    "\n",
    "9) В идеальном случае функция потерь на тренировочном и тестовом множестве не отличается. А вот если на тренировочном функция потерь получается гораздо меньше, чем на тестовом, то это говорит о том, что происходит переобучение.\n",
    "\n",
    "Действительно, при большой степени MSE близка к или равна нулю на тренировочном множестве, а на тестовом множестве нет.\n",
    "\n",
    "10) Единственный пока способ, который мы знаем, чтобы влиять на переобучение - это перебирать **гиперпараметры** модели так, чтобы **минимизировать функцию потерь на тестовом множестве**.\n",
    "\n",
    "Действительно, если выбрать степень 3, то функция потерь окажется минимальной на тестовом множестве, как мы видели в задании 3."
   ]
  },
  {
   "cell_type": "markdown",
   "metadata": {},
   "source": [
    "## 4. Разделение на тренировочную и тестовую части"
   ]
  },
  {
   "cell_type": "markdown",
   "metadata": {},
   "source": [
    "Если вы решите поучаствовать в каком-нибудь соревновании по машинному обучению, вы увидите, что тестовое множество вам недоступно (иначе было бы неинтересно: очень легко обучиться предсказывать то, что ты уже видел).\n",
    "\n",
    "В реальной жизни обычно тоже считают, что на тестовом множестве можно провериться один раз -- в самом конце. Иначе вы начнете подкручивать гиперпараметры глядя на результат на тестовой выборке и, сами того не замечая, переобучитесь.\n",
    "\n",
    "Как поступать в такой ситуации? Придется пожертвовать частью точек, которые даны нам для обучения и использовать их для подбора гиперпараметров в нашем алгоритме (в нашем случае это степень многочлена).\n",
    "\n",
    "То есть придется из точек, у которых мы знаем результаты, убрать, например, 10% в тестовое множество.\n",
    "\n",
    "Функция для этого есть, например, в пакете sklearn, который можно скачать так: `conda install scikit-learn`."
   ]
  },
  {
   "cell_type": "code",
   "execution_count": 34,
   "metadata": {},
   "outputs": [],
   "source": [
    "X = np.linspace(-1, 1, 50)\n",
    "y = f(X)"
   ]
  },
  {
   "cell_type": "code",
   "execution_count": 35,
   "metadata": {},
   "outputs": [],
   "source": [
    "from sklearn.model_selection import train_test_split\n",
    "X_train, X_test, y_train, y_test = train_test_split(X, y, test_size=0.1)"
   ]
  },
  {
   "cell_type": "code",
   "execution_count": 36,
   "metadata": {},
   "outputs": [
    {
     "data": {
      "text/plain": [
       "(array([ 0.95918367, -1.        , -0.95918367, -0.26530612, -0.91836735,\n",
       "        -0.2244898 ,  0.83673469, -0.87755102,  0.55102041,  0.30612245,\n",
       "        -0.71428571,  0.91836735,  0.87755102, -0.79591837, -0.63265306,\n",
       "         0.63265306, -0.59183673, -0.34693878,  0.46938776, -0.75510204,\n",
       "        -0.51020408,  0.02040816,  0.18367347, -0.42857143,  0.79591837,\n",
       "        -0.55102041,  0.42857143, -0.30612245, -0.46938776,  0.59183673,\n",
       "        -0.02040816,  0.34693878, -0.10204082,  0.51020408,  0.3877551 ,\n",
       "         0.06122449,  0.67346939, -0.14285714,  0.10204082,  0.71428571,\n",
       "        -0.3877551 , -0.18367347,  1.        ,  0.26530612,  0.75510204]),\n",
       " array([ 1.76655985, -6.        , -5.44669313, -0.46210338, -4.92881367,\n",
       "        -0.35922107,  1.1939413 , -4.44513766,  0.44568165,  0.20476162,\n",
       "        -2.82798834,  1.55521934,  1.36475448, -3.5755    , -2.19281082,\n",
       "         0.59181124, -1.91428741, -0.71295124,  0.33899141, -3.18709041,\n",
       "        -1.42925142,  0.01960068,  0.13479078, -1.03206997,  1.04155581,\n",
       "        -1.66017561,  0.29737609, -0.57960544, -1.22029087,  0.51320453,\n",
       "        -0.02126665,  0.23148518, -0.12605292,  0.3880186 ,  0.26194868,\n",
       "         0.0544161 ,  0.68272574, -0.19241983,  0.08440361,  0.78717201,\n",
       "        -0.86336475, -0.26973455,  2.        ,  0.18055402,  0.90637404]))"
      ]
     },
     "execution_count": 36,
     "metadata": {},
     "output_type": "execute_result"
    }
   ],
   "source": [
    "X_train, y_train"
   ]
  },
  {
   "cell_type": "code",
   "execution_count": 37,
   "metadata": {},
   "outputs": [
    {
     "data": {
      "text/plain": [
       "(array([-0.67346939, -0.06122449,  0.2244898 ,  0.14285714, -0.83673469]),\n",
       " array([-2.4969698 , -0.06940985,  0.1576384 ,  0.11078717, -3.99444109]))"
      ]
     },
     "execution_count": 37,
     "metadata": {},
     "output_type": "execute_result"
    }
   ],
   "source": [
    "X_test, y_test"
   ]
  },
  {
   "cell_type": "markdown",
   "metadata": {},
   "source": [
    "## 5. Кросс-валидация\n",
    "\n",
    "Также есть более точный способ проводить валидацию результата. Если разделить множество один раз на тестовое и тренировочное, то это может значительно влиять на результат. Вдруг в тестовое множество случайно попали такие точки, в которых предсказать значение тяжелее или легче, чем обычно?\n",
    "\n",
    "Тогда можно применить **кросс-валидацию** - давайте разделим множество на 10 примерно равных частей, тогда у нас есть 10 разделений на тренировочное и тестовое множество - как тестовое множество выберем по очереди каждую из этих частей, а как тренировочное выберем все остальные части.\n",
    "\n",
    "Можно посчитать результат на каждом из 10 разбиений и просто усреднить результат.\n"
   ]
  },
  {
   "cell_type": "code",
   "execution_count": 38,
   "metadata": {},
   "outputs": [
    {
     "name": "stdout",
     "output_type": "stream",
     "text": [
      "[0 1 2 3 4] [ 5  6  7  8  9 10 11 12 13 14 15 16 17 18 19 20 21 22 23 24 25 26 27 28\n",
      " 29 30 31 32 33 34 35 36 37 38 39 40 41 42 43 44 45 46 47 48 49]\n",
      "[5 6 7 8 9] [ 0  1  2  3  4 10 11 12 13 14 15 16 17 18 19 20 21 22 23 24 25 26 27 28\n",
      " 29 30 31 32 33 34 35 36 37 38 39 40 41 42 43 44 45 46 47 48 49]\n",
      "[10 11 12 13 14] [ 0  1  2  3  4  5  6  7  8  9 15 16 17 18 19 20 21 22 23 24 25 26 27 28\n",
      " 29 30 31 32 33 34 35 36 37 38 39 40 41 42 43 44 45 46 47 48 49]\n",
      "[15 16 17 18 19] [ 0  1  2  3  4  5  6  7  8  9 10 11 12 13 14 20 21 22 23 24 25 26 27 28\n",
      " 29 30 31 32 33 34 35 36 37 38 39 40 41 42 43 44 45 46 47 48 49]\n",
      "[20 21 22 23 24] [ 0  1  2  3  4  5  6  7  8  9 10 11 12 13 14 15 16 17 18 19 25 26 27 28\n",
      " 29 30 31 32 33 34 35 36 37 38 39 40 41 42 43 44 45 46 47 48 49]\n",
      "[25 26 27 28 29] [ 0  1  2  3  4  5  6  7  8  9 10 11 12 13 14 15 16 17 18 19 20 21 22 23\n",
      " 24 30 31 32 33 34 35 36 37 38 39 40 41 42 43 44 45 46 47 48 49]\n",
      "[30 31 32 33 34] [ 0  1  2  3  4  5  6  7  8  9 10 11 12 13 14 15 16 17 18 19 20 21 22 23\n",
      " 24 25 26 27 28 29 35 36 37 38 39 40 41 42 43 44 45 46 47 48 49]\n",
      "[35 36 37 38 39] [ 0  1  2  3  4  5  6  7  8  9 10 11 12 13 14 15 16 17 18 19 20 21 22 23\n",
      " 24 25 26 27 28 29 30 31 32 33 34 40 41 42 43 44 45 46 47 48 49]\n",
      "[40 41 42 43 44] [ 0  1  2  3  4  5  6  7  8  9 10 11 12 13 14 15 16 17 18 19 20 21 22 23\n",
      " 24 25 26 27 28 29 30 31 32 33 34 35 36 37 38 39 45 46 47 48 49]\n",
      "[45 46 47 48 49] [ 0  1  2  3  4  5  6  7  8  9 10 11 12 13 14 15 16 17 18 19 20 21 22 23\n",
      " 24 25 26 27 28 29 30 31 32 33 34 35 36 37 38 39 40 41 42 43 44]\n"
     ]
    }
   ],
   "source": [
    "# Есть вот такая удобная штука\n",
    "from sklearn.model_selection import KFold\n",
    "kf = KFold(n_splits=10)\n",
    "kf.get_n_splits(X)\n",
    "for train_index, test_index in kf.split(X):\n",
    "    print(test_index, train_index)"
   ]
  },
  {
   "cell_type": "markdown",
   "metadata": {},
   "source": [
    "**(1 балл) Доп. задача 6:** проделайте все вышеописанное с функцией $f(x) = \\frac{1}{1 + e^{-x}}$ на отрезке $[-3, 3]$. Как оптимальная степень зависит от количества точек, по которым вы подбираете многочлен?"
   ]
  },
  {
   "cell_type": "code",
   "execution_count": 40,
   "metadata": {},
   "outputs": [],
   "source": [
    "# место для решения"
   ]
  },
  {
   "cell_type": "markdown",
   "metadata": {},
   "source": [
    "## 6. Линейная регрессия\n",
    "\n",
    "**Регрессией** называется задача машинного обучения с учителем, в которой у нас есть много объектов с признаками, у которых надо научиться приближенно предсказывать значение целевой функции, которая равна какому-то **действительному числу**. \n",
    "\n",
    "В этом будет отличие задачи регрессии от задачи классификации - регрессия предсказывает число, а классификация - один из нескольких классов.\n",
    "\n",
    "До этого мы учились приближать одномерную функцию многочленом. Каждая точка имела ровно один признак - коодинату $x$.\n",
    "\n",
    "Тем не менее, чаще всего в машинном обучении признаков гораздо больше. Возьмем какой-нибудь реальный датасет, например, **страны мира**."
   ]
  },
  {
   "cell_type": "code",
   "execution_count": 41,
   "metadata": {},
   "outputs": [
    {
     "data": {
      "text/html": [
       "<div>\n",
       "<style scoped>\n",
       "    .dataframe tbody tr th:only-of-type {\n",
       "        vertical-align: middle;\n",
       "    }\n",
       "\n",
       "    .dataframe tbody tr th {\n",
       "        vertical-align: top;\n",
       "    }\n",
       "\n",
       "    .dataframe thead th {\n",
       "        text-align: right;\n",
       "    }\n",
       "</style>\n",
       "<table border=\"1\" class=\"dataframe\">\n",
       "  <thead>\n",
       "    <tr style=\"text-align: right;\">\n",
       "      <th></th>\n",
       "      <th>Country</th>\n",
       "      <th>Population</th>\n",
       "      <th>Area (sq. mi.)</th>\n",
       "      <th>Pop. Density (per sq. mi.)</th>\n",
       "      <th>Coastline (coast/area ratio)</th>\n",
       "      <th>Net migration</th>\n",
       "      <th>Infant mortality (per 1000 births)</th>\n",
       "      <th>GDP ($ per capita)</th>\n",
       "      <th>Literacy (%)</th>\n",
       "      <th>Phones (per 1000)</th>\n",
       "      <th>Arable (%)</th>\n",
       "      <th>Crops (%)</th>\n",
       "      <th>Other (%)</th>\n",
       "      <th>Birthrate</th>\n",
       "      <th>Deathrate</th>\n",
       "      <th>Agriculture</th>\n",
       "      <th>Industry</th>\n",
       "      <th>Service</th>\n",
       "    </tr>\n",
       "  </thead>\n",
       "  <tbody>\n",
       "    <tr>\n",
       "      <th>0</th>\n",
       "      <td>Afghanistan</td>\n",
       "      <td>31056997</td>\n",
       "      <td>647500</td>\n",
       "      <td>48.0</td>\n",
       "      <td>0.00</td>\n",
       "      <td>23.06</td>\n",
       "      <td>163.07</td>\n",
       "      <td>700.0</td>\n",
       "      <td>36.0</td>\n",
       "      <td>3.2</td>\n",
       "      <td>12.13</td>\n",
       "      <td>0.22</td>\n",
       "      <td>87.65</td>\n",
       "      <td>46.60</td>\n",
       "      <td>20.34</td>\n",
       "      <td>0.380</td>\n",
       "      <td>0.240</td>\n",
       "      <td>0.380</td>\n",
       "    </tr>\n",
       "    <tr>\n",
       "      <th>1</th>\n",
       "      <td>Albania</td>\n",
       "      <td>3581655</td>\n",
       "      <td>28748</td>\n",
       "      <td>124.6</td>\n",
       "      <td>1.26</td>\n",
       "      <td>-4.93</td>\n",
       "      <td>21.52</td>\n",
       "      <td>4500.0</td>\n",
       "      <td>86.5</td>\n",
       "      <td>71.2</td>\n",
       "      <td>21.09</td>\n",
       "      <td>4.42</td>\n",
       "      <td>74.49</td>\n",
       "      <td>15.11</td>\n",
       "      <td>5.22</td>\n",
       "      <td>0.232</td>\n",
       "      <td>0.188</td>\n",
       "      <td>0.579</td>\n",
       "    </tr>\n",
       "    <tr>\n",
       "      <th>2</th>\n",
       "      <td>Algeria</td>\n",
       "      <td>32930091</td>\n",
       "      <td>2381740</td>\n",
       "      <td>13.8</td>\n",
       "      <td>0.04</td>\n",
       "      <td>-0.39</td>\n",
       "      <td>31.00</td>\n",
       "      <td>6000.0</td>\n",
       "      <td>70.0</td>\n",
       "      <td>78.1</td>\n",
       "      <td>3.22</td>\n",
       "      <td>0.25</td>\n",
       "      <td>96.53</td>\n",
       "      <td>17.14</td>\n",
       "      <td>4.61</td>\n",
       "      <td>0.101</td>\n",
       "      <td>0.600</td>\n",
       "      <td>0.298</td>\n",
       "    </tr>\n",
       "    <tr>\n",
       "      <th>3</th>\n",
       "      <td>American Samoa</td>\n",
       "      <td>57794</td>\n",
       "      <td>199</td>\n",
       "      <td>290.4</td>\n",
       "      <td>58.29</td>\n",
       "      <td>-20.71</td>\n",
       "      <td>9.27</td>\n",
       "      <td>8000.0</td>\n",
       "      <td>97.0</td>\n",
       "      <td>259.5</td>\n",
       "      <td>10.00</td>\n",
       "      <td>15.00</td>\n",
       "      <td>75.00</td>\n",
       "      <td>22.46</td>\n",
       "      <td>3.27</td>\n",
       "      <td>NaN</td>\n",
       "      <td>NaN</td>\n",
       "      <td>NaN</td>\n",
       "    </tr>\n",
       "    <tr>\n",
       "      <th>4</th>\n",
       "      <td>Andorra</td>\n",
       "      <td>71201</td>\n",
       "      <td>468</td>\n",
       "      <td>152.1</td>\n",
       "      <td>0.00</td>\n",
       "      <td>6.60</td>\n",
       "      <td>4.05</td>\n",
       "      <td>19000.0</td>\n",
       "      <td>100.0</td>\n",
       "      <td>497.2</td>\n",
       "      <td>2.22</td>\n",
       "      <td>0.00</td>\n",
       "      <td>97.78</td>\n",
       "      <td>8.71</td>\n",
       "      <td>6.25</td>\n",
       "      <td>NaN</td>\n",
       "      <td>NaN</td>\n",
       "      <td>NaN</td>\n",
       "    </tr>\n",
       "  </tbody>\n",
       "</table>\n",
       "</div>"
      ],
      "text/plain": [
       "           Country  Population  Area (sq. mi.)  Pop. Density (per sq. mi.)  \\\n",
       "0     Afghanistan     31056997          647500                        48.0   \n",
       "1         Albania      3581655           28748                       124.6   \n",
       "2         Algeria     32930091         2381740                        13.8   \n",
       "3  American Samoa        57794             199                       290.4   \n",
       "4         Andorra        71201             468                       152.1   \n",
       "\n",
       "   Coastline (coast/area ratio)  Net migration  \\\n",
       "0                          0.00          23.06   \n",
       "1                          1.26          -4.93   \n",
       "2                          0.04          -0.39   \n",
       "3                         58.29         -20.71   \n",
       "4                          0.00           6.60   \n",
       "\n",
       "   Infant mortality (per 1000 births)  GDP ($ per capita)  Literacy (%)  \\\n",
       "0                              163.07               700.0          36.0   \n",
       "1                               21.52              4500.0          86.5   \n",
       "2                               31.00              6000.0          70.0   \n",
       "3                                9.27              8000.0          97.0   \n",
       "4                                4.05             19000.0         100.0   \n",
       "\n",
       "   Phones (per 1000)  Arable (%)  Crops (%)  Other (%)  Birthrate  Deathrate  \\\n",
       "0                3.2       12.13       0.22      87.65      46.60      20.34   \n",
       "1               71.2       21.09       4.42      74.49      15.11       5.22   \n",
       "2               78.1        3.22       0.25      96.53      17.14       4.61   \n",
       "3              259.5       10.00      15.00      75.00      22.46       3.27   \n",
       "4              497.2        2.22       0.00      97.78       8.71       6.25   \n",
       "\n",
       "   Agriculture  Industry  Service  \n",
       "0        0.380     0.240    0.380  \n",
       "1        0.232     0.188    0.579  \n",
       "2        0.101     0.600    0.298  \n",
       "3          NaN       NaN      NaN  \n",
       "4          NaN       NaN      NaN  "
      ]
     },
     "execution_count": 41,
     "metadata": {},
     "output_type": "execute_result"
    }
   ],
   "source": [
    "data = pd.read_csv('countries.csv')\n",
    "data.head()"
   ]
  },
  {
   "cell_type": "markdown",
   "metadata": {},
   "source": [
    "Давайте научимся предсказывать GDP (ВВП) страны под другим известным признакам. Предположительно, какая-то зависимость существует.\n",
    "\n",
    "**Признаками** (по-английски feature) страны у нас теперь будут 16 чисел с признаками, а не 1 число как раньше."
   ]
  },
  {
   "cell_type": "code",
   "execution_count": 52,
   "metadata": {},
   "outputs": [
    {
     "data": {
      "text/plain": [
       "array([[ 3.1056997e+07,  6.4750000e+05,  4.8000000e+01,  0.0000000e+00,\n",
       "         2.3060000e+01,  1.6307000e+02,  3.6000000e+01,  3.2000000e+00,\n",
       "         1.2130000e+01,  2.2000000e-01,  8.7650000e+01,  4.6600000e+01,\n",
       "         2.0340000e+01,  3.8000000e-01,  2.4000000e-01,  3.8000000e-01],\n",
       "       [ 3.5816550e+06,  2.8748000e+04,  1.2460000e+02,  1.2600000e+00,\n",
       "        -4.9300000e+00,  2.1520000e+01,  8.6500000e+01,  7.1200000e+01,\n",
       "         2.1090000e+01,  4.4200000e+00,  7.4490000e+01,  1.5110000e+01,\n",
       "         5.2200000e+00,  2.3200000e-01,  1.8800000e-01,  5.7900000e-01],\n",
       "       [ 3.2930091e+07,  2.3817400e+06,  1.3800000e+01,  4.0000000e-02,\n",
       "        -3.9000000e-01,  3.1000000e+01,  7.0000000e+01,  7.8100000e+01,\n",
       "         3.2200000e+00,  2.5000000e-01,  9.6530000e+01,  1.7140000e+01,\n",
       "         4.6100000e+00,  1.0100000e-01,  6.0000000e-01,  2.9800000e-01],\n",
       "       [ 5.7794000e+04,  1.9900000e+02,  2.9040000e+02,  5.8290000e+01,\n",
       "        -2.0710000e+01,  9.2700000e+00,  9.7000000e+01,  2.5950000e+02,\n",
       "         1.0000000e+01,  1.5000000e+01,  7.5000000e+01,  2.2460000e+01,\n",
       "         3.2700000e+00,            nan,            nan,            nan],\n",
       "       [ 7.1201000e+04,  4.6800000e+02,  1.5210000e+02,  0.0000000e+00,\n",
       "         6.6000000e+00,  4.0500000e+00,  1.0000000e+02,  4.9720000e+02,\n",
       "         2.2200000e+00,  0.0000000e+00,  9.7780000e+01,  8.7100000e+00,\n",
       "         6.2500000e+00,            nan,            nan,            nan]])"
      ]
     },
     "execution_count": 52,
     "metadata": {},
     "output_type": "execute_result"
    }
   ],
   "source": [
    "X = np.array(data.drop(['Country', 'GDP ($ per capita)'], axis=1))\n",
    "X[:5]"
   ]
  },
  {
   "cell_type": "code",
   "execution_count": 53,
   "metadata": {},
   "outputs": [
    {
     "data": {
      "text/plain": [
       "array([  700.,  4500.,  6000.,  8000., 19000.])"
      ]
     },
     "execution_count": 53,
     "metadata": {},
     "output_type": "execute_result"
    }
   ],
   "source": [
    "y = np.array(data['GDP ($ per capita)'])\n",
    "y[:5]"
   ]
  },
  {
   "cell_type": "code",
   "execution_count": 65,
   "metadata": {},
   "outputs": [],
   "source": [
    "country_names = data['Country']"
   ]
  },
  {
   "cell_type": "code",
   "execution_count": 84,
   "metadata": {},
   "outputs": [
    {
     "data": {
      "text/plain": [
       "array([[ 3.1056997e+07,  6.4750000e+05,  4.8000000e+01,  0.0000000e+00,\n",
       "         2.3060000e+01,  1.6307000e+02,  3.6000000e+01,  3.2000000e+00,\n",
       "         1.2130000e+01,  2.2000000e-01,  8.7650000e+01,  4.6600000e+01,\n",
       "         2.0340000e+01,  3.8000000e-01,  2.4000000e-01,  3.8000000e-01],\n",
       "       [ 3.5816550e+06,  2.8748000e+04,  1.2460000e+02,  1.2600000e+00,\n",
       "        -4.9300000e+00,  2.1520000e+01,  8.6500000e+01,  7.1200000e+01,\n",
       "         2.1090000e+01,  4.4200000e+00,  7.4490000e+01,  1.5110000e+01,\n",
       "         5.2200000e+00,  2.3200000e-01,  1.8800000e-01,  5.7900000e-01],\n",
       "       [ 3.2930091e+07,  2.3817400e+06,  1.3800000e+01,  4.0000000e-02,\n",
       "        -3.9000000e-01,  3.1000000e+01,  7.0000000e+01,  7.8100000e+01,\n",
       "         3.2200000e+00,  2.5000000e-01,  9.6530000e+01,  1.7140000e+01,\n",
       "         4.6100000e+00,  1.0100000e-01,  6.0000000e-01,  2.9800000e-01],\n",
       "       [ 5.7794000e+04,  1.9900000e+02,  2.9040000e+02,  5.8290000e+01,\n",
       "        -2.0710000e+01,  9.2700000e+00,  9.7000000e+01,  2.5950000e+02,\n",
       "         1.0000000e+01,  1.5000000e+01,  7.5000000e+01,  2.2460000e+01,\n",
       "         3.2700000e+00,  0.0000000e+00,  0.0000000e+00,  0.0000000e+00],\n",
       "       [ 7.1201000e+04,  4.6800000e+02,  1.5210000e+02,  0.0000000e+00,\n",
       "         6.6000000e+00,  4.0500000e+00,  1.0000000e+02,  4.9720000e+02,\n",
       "         2.2200000e+00,  0.0000000e+00,  9.7780000e+01,  8.7100000e+00,\n",
       "         6.2500000e+00,  0.0000000e+00,  0.0000000e+00,  0.0000000e+00]])"
      ]
     },
     "execution_count": 84,
     "metadata": {},
     "output_type": "execute_result"
    }
   ],
   "source": [
    "# небольшая проблема: некоторые данные в признаках помечены как NaN\n",
    "# надо их заменить на какое-то число, давайте заменим на 0\n",
    "\n",
    "X[np.where(np.isnan(X))] = 0.0\n",
    "X[:5]"
   ]
  },
  {
   "cell_type": "markdown",
   "metadata": {},
   "source": [
    "Какую модель выбрать для предсказания ВВП? Давайте выберем **линейную модель**. То есть результат зависит от признаков как их линейная комбинация:\n",
    "\n",
    "$$m(x_1, \\ldots, x_n) = a_0 + a_1x_1 + a_2x_2 + \\ldots + a_nx_n$$."
   ]
  },
  {
   "cell_type": "markdown",
   "metadata": {},
   "source": [
    "Как функцию потерь опять выберем MSE - среднеквадратичную ошибку.\n",
    "\n",
    "Такая модель уже написана в пакете $sklearn$ и называется **LinearRegession**."
   ]
  },
  {
   "cell_type": "code",
   "execution_count": 85,
   "metadata": {},
   "outputs": [],
   "source": [
    "from sklearn.linear_model import LinearRegression\n",
    "model = LinearRegression()"
   ]
  },
  {
   "cell_type": "markdown",
   "metadata": {},
   "source": [
    "У любой модели в библиотеке sklearn есть следующие методы:\n",
    "\n",
    "1) fit(X_train, y_train) - обучить модель на значениях на тренировочном множестве (подобрать параметры, в которых функция потерь минимальна). Мы пока не будем рассказывать, как происходит этот подбор параметров для LinearRegression, он реализован внутри библиотеки.\n",
    "\n",
    "2) predict(X_test) - применить модель на тестовом множестве."
   ]
  },
  {
   "cell_type": "code",
   "execution_count": 93,
   "metadata": {},
   "outputs": [],
   "source": [
    "# делим на тренировочное и тестовое множество\n",
    "X_train, X_test, y_train, y_test, country_names_train, country_names_test = \\\n",
    "    train_test_split(X, y, country_names, test_size=0.1)"
   ]
  },
  {
   "cell_type": "code",
   "execution_count": 94,
   "metadata": {},
   "outputs": [
    {
     "data": {
      "text/plain": [
       "LinearRegression(copy_X=True, fit_intercept=True, n_jobs=None,\n",
       "         normalize=False)"
      ]
     },
     "execution_count": 94,
     "metadata": {},
     "output_type": "execute_result"
    }
   ],
   "source": [
    "model.fit(X_train, y_train)"
   ]
  },
  {
   "cell_type": "code",
   "execution_count": 95,
   "metadata": {},
   "outputs": [
    {
     "data": {
      "text/plain": [
       "array([ 11908.20475328,   3771.9583193 ,  24057.07006619,  -3082.25457841,\n",
       "         4982.47667702,   -406.02481758,    716.50545787,   6512.75447863,\n",
       "         9775.25463153,  12047.31919325, -10780.6892859 ,  15402.26706926,\n",
       "        14871.83912167,  19209.47139567,   2441.59172576,     36.41025089,\n",
       "        11454.60753112,    300.54104989,  25478.09196411,  29296.77767076,\n",
       "         5574.94751903,   -959.73973442,  13563.78650799])"
      ]
     },
     "execution_count": 95,
     "metadata": {},
     "output_type": "execute_result"
    }
   ],
   "source": [
    "y_pred = model.predict(X_test)\n",
    "y_pred"
   ]
  },
  {
   "cell_type": "code",
   "execution_count": 96,
   "metadata": {},
   "outputs": [
    {
     "data": {
      "text/plain": [
       "array([15000.,  1100., 29800.,  8000., 19200.,  1100.,  1900.,  2500.,\n",
       "        6700.,  9900.,  2600., 15700.,  8300., 10600.,  5000.,   800.,\n",
       "       11200.,  1300., 25000., 26800.,  4000.,   700., 11100.])"
      ]
     },
     "execution_count": 96,
     "metadata": {},
     "output_type": "execute_result"
    }
   ],
   "source": [
    "y_test"
   ]
  },
  {
   "cell_type": "code",
   "execution_count": 106,
   "metadata": {},
   "outputs": [],
   "source": [
    "# Посчитали MSE\n",
    "\n",
    "MSE(y_test, y_pred)"
   ]
  },
  {
   "cell_type": "code",
   "execution_count": 107,
   "metadata": {},
   "outputs": [
    {
     "data": {
      "text/html": [
       "<div>\n",
       "<style scoped>\n",
       "    .dataframe tbody tr th:only-of-type {\n",
       "        vertical-align: middle;\n",
       "    }\n",
       "\n",
       "    .dataframe tbody tr th {\n",
       "        vertical-align: top;\n",
       "    }\n",
       "\n",
       "    .dataframe thead th {\n",
       "        text-align: right;\n",
       "    }\n",
       "</style>\n",
       "<table border=\"1\" class=\"dataframe\">\n",
       "  <thead>\n",
       "    <tr style=\"text-align: right;\">\n",
       "      <th></th>\n",
       "      <th>Country</th>\n",
       "      <th>real GDP</th>\n",
       "      <th>pred GDP</th>\n",
       "      <th>squared error</th>\n",
       "      <th>error / real</th>\n",
       "    </tr>\n",
       "  </thead>\n",
       "  <tbody>\n",
       "    <tr>\n",
       "      <th>148</th>\n",
       "      <td>New Caledonia</td>\n",
       "      <td>15000.0</td>\n",
       "      <td>9491.304348</td>\n",
       "      <td>3.034573e+07</td>\n",
       "      <td>0.367246</td>\n",
       "    </tr>\n",
       "    <tr>\n",
       "      <th>209</th>\n",
       "      <td>Tuvalu</td>\n",
       "      <td>1100.0</td>\n",
       "      <td>9491.304348</td>\n",
       "      <td>7.041399e+07</td>\n",
       "      <td>-7.628458</td>\n",
       "    </tr>\n",
       "    <tr>\n",
       "      <th>36</th>\n",
       "      <td>Canada</td>\n",
       "      <td>29800.0</td>\n",
       "      <td>9491.304348</td>\n",
       "      <td>4.124431e+08</td>\n",
       "      <td>0.681500</td>\n",
       "    </tr>\n",
       "    <tr>\n",
       "      <th>3</th>\n",
       "      <td>American Samoa</td>\n",
       "      <td>8000.0</td>\n",
       "      <td>9491.304348</td>\n",
       "      <td>2.223989e+06</td>\n",
       "      <td>-0.186413</td>\n",
       "    </tr>\n",
       "    <tr>\n",
       "      <th>52</th>\n",
       "      <td>Cyprus</td>\n",
       "      <td>19200.0</td>\n",
       "      <td>9491.304348</td>\n",
       "      <td>9.425877e+07</td>\n",
       "      <td>0.505661</td>\n",
       "    </tr>\n",
       "    <tr>\n",
       "      <th>31</th>\n",
       "      <td>Burkina Faso</td>\n",
       "      <td>1100.0</td>\n",
       "      <td>9491.304348</td>\n",
       "      <td>7.041399e+07</td>\n",
       "      <td>-7.628458</td>\n",
       "    </tr>\n",
       "    <tr>\n",
       "      <th>192</th>\n",
       "      <td>Sudan</td>\n",
       "      <td>1900.0</td>\n",
       "      <td>9491.304348</td>\n",
       "      <td>5.762790e+07</td>\n",
       "      <td>-3.995423</td>\n",
       "    </tr>\n",
       "    <tr>\n",
       "      <th>75</th>\n",
       "      <td>Georgia</td>\n",
       "      <td>2500.0</td>\n",
       "      <td>9491.304348</td>\n",
       "      <td>4.887834e+07</td>\n",
       "      <td>-2.796522</td>\n",
       "    </tr>\n",
       "    <tr>\n",
       "      <th>206</th>\n",
       "      <td>Turkey</td>\n",
       "      <td>6700.0</td>\n",
       "      <td>9491.304348</td>\n",
       "      <td>7.791380e+06</td>\n",
       "      <td>-0.416613</td>\n",
       "    </tr>\n",
       "    <tr>\n",
       "      <th>41</th>\n",
       "      <td>Chile</td>\n",
       "      <td>9900.0</td>\n",
       "      <td>9491.304348</td>\n",
       "      <td>1.670321e+05</td>\n",
       "      <td>0.041282</td>\n",
       "    </tr>\n",
       "    <tr>\n",
       "      <th>134</th>\n",
       "      <td>Mayotte</td>\n",
       "      <td>2600.0</td>\n",
       "      <td>9491.304348</td>\n",
       "      <td>4.749008e+07</td>\n",
       "      <td>-2.650502</td>\n",
       "    </tr>\n",
       "    <tr>\n",
       "      <th>53</th>\n",
       "      <td>Czech Republic</td>\n",
       "      <td>15700.0</td>\n",
       "      <td>9491.304348</td>\n",
       "      <td>3.854790e+07</td>\n",
       "      <td>0.395458</td>\n",
       "    </tr>\n",
       "    <tr>\n",
       "      <th>70</th>\n",
       "      <td>French Guiana</td>\n",
       "      <td>8300.0</td>\n",
       "      <td>9491.304348</td>\n",
       "      <td>1.419206e+06</td>\n",
       "      <td>-0.143531</td>\n",
       "    </tr>\n",
       "    <tr>\n",
       "      <th>50</th>\n",
       "      <td>Croatia</td>\n",
       "      <td>10600.0</td>\n",
       "      <td>9491.304348</td>\n",
       "      <td>1.229206e+06</td>\n",
       "      <td>0.104594</td>\n",
       "    </tr>\n",
       "    <tr>\n",
       "      <th>144</th>\n",
       "      <td>Nauru</td>\n",
       "      <td>5000.0</td>\n",
       "      <td>9491.304348</td>\n",
       "      <td>2.017181e+07</td>\n",
       "      <td>-0.898261</td>\n",
       "    </tr>\n",
       "    <tr>\n",
       "      <th>108</th>\n",
       "      <td>Kiribati</td>\n",
       "      <td>800.0</td>\n",
       "      <td>9491.304348</td>\n",
       "      <td>7.553877e+07</td>\n",
       "      <td>-10.864130</td>\n",
       "    </tr>\n",
       "    <tr>\n",
       "      <th>8</th>\n",
       "      <td>Argentina</td>\n",
       "      <td>11200.0</td>\n",
       "      <td>9491.304348</td>\n",
       "      <td>2.919641e+06</td>\n",
       "      <td>0.152562</td>\n",
       "    </tr>\n",
       "    <tr>\n",
       "      <th>23</th>\n",
       "      <td>Bhutan</td>\n",
       "      <td>1300.0</td>\n",
       "      <td>9491.304348</td>\n",
       "      <td>6.709747e+07</td>\n",
       "      <td>-6.301003</td>\n",
       "    </tr>\n",
       "    <tr>\n",
       "      <th>119</th>\n",
       "      <td>Liechtenstein</td>\n",
       "      <td>25000.0</td>\n",
       "      <td>9491.304348</td>\n",
       "      <td>2.405196e+08</td>\n",
       "      <td>0.620348</td>\n",
       "    </tr>\n",
       "    <tr>\n",
       "      <th>195</th>\n",
       "      <td>Sweden</td>\n",
       "      <td>26800.0</td>\n",
       "      <td>9491.304348</td>\n",
       "      <td>2.995909e+08</td>\n",
       "      <td>0.645847</td>\n",
       "    </tr>\n",
       "    <tr>\n",
       "      <th>193</th>\n",
       "      <td>Suriname</td>\n",
       "      <td>4000.0</td>\n",
       "      <td>9491.304348</td>\n",
       "      <td>3.015442e+07</td>\n",
       "      <td>-1.372826</td>\n",
       "    </tr>\n",
       "    <tr>\n",
       "      <th>45</th>\n",
       "      <td>Congo. Dem. Rep.</td>\n",
       "      <td>700.0</td>\n",
       "      <td>9491.304348</td>\n",
       "      <td>7.728703e+07</td>\n",
       "      <td>-12.559006</td>\n",
       "    </tr>\n",
       "    <tr>\n",
       "      <th>163</th>\n",
       "      <td>Poland</td>\n",
       "      <td>11100.0</td>\n",
       "      <td>9491.304348</td>\n",
       "      <td>2.587902e+06</td>\n",
       "      <td>0.144928</td>\n",
       "    </tr>\n",
       "  </tbody>\n",
       "</table>\n",
       "</div>"
      ],
      "text/plain": [
       "               Country  real GDP     pred GDP  squared error  error / real\n",
       "148     New Caledonia    15000.0  9491.304348   3.034573e+07      0.367246\n",
       "209            Tuvalu     1100.0  9491.304348   7.041399e+07     -7.628458\n",
       "36             Canada    29800.0  9491.304348   4.124431e+08      0.681500\n",
       "3      American Samoa     8000.0  9491.304348   2.223989e+06     -0.186413\n",
       "52             Cyprus    19200.0  9491.304348   9.425877e+07      0.505661\n",
       "31       Burkina Faso     1100.0  9491.304348   7.041399e+07     -7.628458\n",
       "192             Sudan     1900.0  9491.304348   5.762790e+07     -3.995423\n",
       "75            Georgia     2500.0  9491.304348   4.887834e+07     -2.796522\n",
       "206            Turkey     6700.0  9491.304348   7.791380e+06     -0.416613\n",
       "41              Chile     9900.0  9491.304348   1.670321e+05      0.041282\n",
       "134           Mayotte     2600.0  9491.304348   4.749008e+07     -2.650502\n",
       "53     Czech Republic    15700.0  9491.304348   3.854790e+07      0.395458\n",
       "70      French Guiana     8300.0  9491.304348   1.419206e+06     -0.143531\n",
       "50            Croatia    10600.0  9491.304348   1.229206e+06      0.104594\n",
       "144             Nauru     5000.0  9491.304348   2.017181e+07     -0.898261\n",
       "108          Kiribati      800.0  9491.304348   7.553877e+07    -10.864130\n",
       "8           Argentina    11200.0  9491.304348   2.919641e+06      0.152562\n",
       "23             Bhutan     1300.0  9491.304348   6.709747e+07     -6.301003\n",
       "119     Liechtenstein    25000.0  9491.304348   2.405196e+08      0.620348\n",
       "195            Sweden    26800.0  9491.304348   2.995909e+08      0.645847\n",
       "193          Suriname     4000.0  9491.304348   3.015442e+07     -1.372826\n",
       "45   Congo. Dem. Rep.      700.0  9491.304348   7.728703e+07    -12.559006\n",
       "163            Poland    11100.0  9491.304348   2.587902e+06      0.144928"
      ]
     },
     "execution_count": 107,
     "metadata": {},
     "output_type": "execute_result"
    }
   ],
   "source": [
    "test_data = pd.DataFrame()\n",
    "test_data['Country'] = country_names_test\n",
    "test_data['real GDP'] = y_test\n",
    "test_data['pred GDP'] = y_pred\n",
    "test_data['squared error'] = (y_test - y_pred) ** 2\n",
    "test_data['error / real'] = (y_test - y_pred) / y_test\n",
    "test_data"
   ]
  },
  {
   "cell_type": "markdown",
   "metadata": {},
   "source": [
    "Итого, мы предсказали ВВП со средней квадратичной ошибкой 13 миллионов. Видно, что у многих стран мы сделали это доволно точно.\n",
    "\n",
    "Много это или мало? Давайте сравним с каким-нибудь наивным алгоритмом - всегда предсказывать среднее значение."
   ]
  },
  {
   "cell_type": "code",
   "execution_count": 105,
   "metadata": {},
   "outputs": [],
   "source": [
    "y_pred = np.mean(y_test)\n",
    "MSE(y_test, y_pred)"
   ]
  },
  {
   "cell_type": "markdown",
   "metadata": {},
   "source": [
    "Ну видно, что наш алгоритм работает значительно лучше, чем наивный (у него MSE в несколько раз больше). Наивный алгоритм принято называть **бейзлайном** (baseline)."
   ]
  },
  {
   "cell_type": "markdown",
   "metadata": {},
   "source": [
    "## 7. Как подбираются коэффициенты\n",
    "\n",
    "Вы скорее всего недовольны тем, что самое главное - обучение модели, то есть подбор коэффициентов, происходит магическим образом внутри библиотеки.\n",
    "\n",
    "Причем было аж 2 обмана - сначала непонятно как работала функция polyfit(X, y, deg), теперь непонятно как работает LinearRegression().fit(X, y). Но заметим, что на самом деле эти функции делают одно и то же! И это всего лишь один обман."
   ]
  },
  {
   "cell_type": "code",
   "execution_count": 108,
   "metadata": {},
   "outputs": [],
   "source": [
    "# Заведем функцию 4 степени\n",
    "\n",
    "def g(x):\n",
    "    return x ** 4 - x ** 3 + 4 * x -1\n",
    "\n",
    "X = np.linspace(-1, 1, 10)\n",
    "y = g(X)"
   ]
  },
  {
   "cell_type": "code",
   "execution_count": 109,
   "metadata": {},
   "outputs": [
    {
     "data": {
      "text/plain": [
       "array([-1.        ,  1.01234568,  4.        , -1.11769547])"
      ]
     },
     "execution_count": 109,
     "metadata": {},
     "output_type": "execute_result"
    }
   ],
   "source": [
    "coefs_polyfit = scipy.polyfit(X, y, deg=3)\n",
    "coefs_polyfit"
   ]
  },
  {
   "cell_type": "markdown",
   "metadata": {},
   "source": [
    "Заметим, что формула модели с многочленом ($P(x) = a_0 + a_1x + a_2x^2 + a_3x^3$) очень похожа на формулу для модели линейной регрессии ($m(x_1, x_2, x_3) = a_0 + a_1x_1 + a_2x_2 + a_3x_3$). А именно, это ровно она, примененная для $x, x^2$ и $x^3$. То есть мы будто просто добавили два новых признака, просто взяв квадрат и куб единственного существующего признака, и запустили обычную линейную регрессию. Именно так это и работает."
   ]
  },
  {
   "cell_type": "code",
   "execution_count": 110,
   "metadata": {},
   "outputs": [
    {
     "data": {
      "text/plain": [
       "array([[-1.        ,  1.        , -1.        ],\n",
       "       [-0.77777778,  0.60493827, -0.47050754],\n",
       "       [-0.55555556,  0.30864198, -0.17146776],\n",
       "       [-0.33333333,  0.11111111, -0.03703704],\n",
       "       [-0.11111111,  0.01234568, -0.00137174],\n",
       "       [ 0.11111111,  0.01234568,  0.00137174],\n",
       "       [ 0.33333333,  0.11111111,  0.03703704],\n",
       "       [ 0.55555556,  0.30864198,  0.17146776],\n",
       "       [ 0.77777778,  0.60493827,  0.47050754],\n",
       "       [ 1.        ,  1.        ,  1.        ]])"
      ]
     },
     "execution_count": 110,
     "metadata": {},
     "output_type": "execute_result"
    }
   ],
   "source": [
    "new_X = np.zeros((len(X), 3))\n",
    "new_X[:, 0] = X\n",
    "new_X[:, 1] = X ** 2\n",
    "new_X[:, 2] = X ** 3\n",
    "new_X"
   ]
  },
  {
   "cell_type": "code",
   "execution_count": 111,
   "metadata": {},
   "outputs": [
    {
     "data": {
      "text/plain": [
       "(array([ 4.        ,  1.01234568, -1.        ]), -1.117695473251029)"
      ]
     },
     "execution_count": 111,
     "metadata": {},
     "output_type": "execute_result"
    }
   ],
   "source": [
    "model = LinearRegression()\n",
    "model.fit(new_X, y)\n",
    "coefs_linregression = model.coef_\n",
    "coefs_linregression, model.intercept_"
   ]
  },
  {
   "cell_type": "markdown",
   "metadata": {},
   "source": [
    "Как видим, это ровно тот же самый многочлен (только коэффициенты у них записаны в разном порядке)."
   ]
  },
  {
   "cell_type": "markdown",
   "metadata": {},
   "source": [
    "Осталось только узнать, как работает fit в LinearRegression. Про это можете посмотреть отдельный ноутбук с названием how_works_LinearRegression.ipynb"
   ]
  },
  {
   "cell_type": "markdown",
   "metadata": {},
   "source": [
    "## 8. Регуляризация"
   ]
  },
  {
   "cell_type": "markdown",
   "metadata": {},
   "source": [
    "Вернемся к приближению нашей одномерной функции многочленом."
   ]
  },
  {
   "cell_type": "code",
   "execution_count": 112,
   "metadata": {},
   "outputs": [],
   "source": [
    "def f(x):\n",
    "    return 3 * x ** 3 - 2 * x**2 + x"
   ]
  },
  {
   "cell_type": "code",
   "execution_count": 113,
   "metadata": {},
   "outputs": [
    {
     "data": {
      "text/plain": [
       "[<matplotlib.lines.Line2D at 0x7f9940868a90>]"
      ]
     },
     "execution_count": 113,
     "metadata": {},
     "output_type": "execute_result"
    },
    {
     "data": {
      "image/png": "[encoded data removed]",
      "text/plain": [
       "<Figure size 432x288 with 1 Axes>"
      ]
     },
     "metadata": {
      "needs_background": "light"
     },
     "output_type": "display_data"
    }
   ],
   "source": [
    "x100 = np.linspace(-1, 1, 100)\n",
    "plt.plot(x100, f(x100))"
   ]
  },
  {
   "cell_type": "code",
   "execution_count": 114,
   "metadata": {},
   "outputs": [
    {
     "data": {
      "text/plain": [
       "[<matplotlib.lines.Line2D at 0x7f9940b0cba8>]"
      ]
     },
     "execution_count": 114,
     "metadata": {},
     "output_type": "execute_result"
    },
    {
     "data": {
      "image/png": "[encoded data removed]",
      "text/plain": [
       "<Figure size 432x288 with 1 Axes>"
      ]
     },
     "metadata": {
      "needs_background": "light"
     },
     "output_type": "display_data"
    }
   ],
   "source": [
    "x = np.linspace(-1, 1, 10)\n",
    "y = f(x) + np.random.normal(0, 0.5, 10)\n",
    "coefs = scipy.polyfit(x, y, deg = 9)\n",
    "poly = scipy.poly1d(coefs)\n",
    "plt.scatter(x, y)\n",
    "plt.plot(x100, f(x100))\n",
    "plt.plot(x100, poly(x100))"
   ]
  },
  {
   "cell_type": "markdown",
   "metadata": {},
   "source": [
    "Давайте сильно увеличим число точек в обучающей выборке"
   ]
  },
  {
   "cell_type": "code",
   "execution_count": 115,
   "metadata": {},
   "outputs": [
    {
     "data": {
      "text/plain": [
       "[<matplotlib.lines.Line2D at 0x7f99408ccfd0>]"
      ]
     },
     "execution_count": 115,
     "metadata": {},
     "output_type": "execute_result"
    },
    {
     "data": {
      "image/png": "[encoded data removed]",
      "text/plain": [
       "<Figure size 432x288 with 1 Axes>"
      ]
     },
     "metadata": {
      "needs_background": "light"
     },
     "output_type": "display_data"
    }
   ],
   "source": [
    "x = np.linspace(-1, 1, 100)\n",
    "y = f(x) + np.random.normal(0, 0.5, 100)\n",
    "coefs = scipy.polyfit(x, y, deg = 9)\n",
    "poly = scipy.poly1d(coefs)\n",
    "plt.scatter(x, y)\n",
    "plt.plot(x, f(x))\n",
    "plt.plot(x, poly(x))"
   ]
  },
  {
   "cell_type": "markdown",
   "metadata": {},
   "source": [
    "Выглядит, как почти точное соответствие нашей исходной функции. Но является ли это приближение хорошим? Давайте посмотрим на коэффициенты получившегося многочлена"
   ]
  },
  {
   "cell_type": "code",
   "execution_count": 116,
   "metadata": {},
   "outputs": [
    {
     "data": {
      "text/plain": [
       "array([ -2.92115788,  -5.74305467,  17.10322341,   9.88585066,\n",
       "       -23.62289363,  -4.97159552,  13.81712845,  -1.14274358,\n",
       "        -0.34627825,  -0.0770012 ])"
      ]
     },
     "execution_count": 116,
     "metadata": {},
     "output_type": "execute_result"
    }
   ],
   "source": [
    "coefs"
   ]
  },
  {
   "cell_type": "markdown",
   "metadata": {},
   "source": [
    "Получается, что в нашем приближении коэффициент при $x^9$ равен $-2.9$, а коэффициент при $x^7$ равен $17.1$ (у вас могли получиться другие числа). Ясно, что это на самом деле очень странный многочлен, который чисто случайно почти совпадает с нашим многочленом на интересующем нас отрезке. "
   ]
  },
  {
   "cell_type": "markdown",
   "metadata": {},
   "source": [
    "**Обязательное задание 4:** постройте график аналогичный предыдущему на большем отрезке и убедитесь, что вне отрезка $[-1, 1]$ получившийся полином очень не похож на наш исходный.\n",
    "\n",
    "Рекомендую выбрать отрезок $[-1.4, 1.4]$, чтобы на графике хоть что-то было видно."
   ]
  },
  {
   "cell_type": "code",
   "execution_count": 117,
   "metadata": {},
   "outputs": [],
   "source": [
    "# место для решения"
   ]
  },
  {
   "cell_type": "markdown",
   "metadata": {},
   "source": [
    "Это общая проблема - как правило экстраполировать (обобщать знания в сторону значений, которые мы раньше не встречали) гораздо сложнее чем интерполировать (обощать данные внутри интервала, где у нас есть примеры).\n",
    "<img src=\"https://imgs.xkcd.com/comics/extrapolating.png\">"
   ]
  },
  {
   "cell_type": "markdown",
   "metadata": {},
   "source": [
    "**Обязательное задание 5:** проделайте все то же самое, но не используйте точки от $[0, 0.5]$ для обучения. \n",
    "\n",
    "Совет: такие точеки можно сгенерировать вот так: "
   ]
  },
  {
   "cell_type": "code",
   "execution_count": 76,
   "metadata": {},
   "outputs": [],
   "source": [
    "x = np.linspace(-1, 1, 200)\n",
    "x = x[(x < 0) + (x > 0.5)] # Подумайте, почему это работает"
   ]
  },
  {
   "cell_type": "code",
   "execution_count": null,
   "metadata": {},
   "outputs": [],
   "source": [
    "# место для решения"
   ]
  },
  {
   "cell_type": "markdown",
   "metadata": {},
   "source": [
    "Убедитесь, что для полинома высокой степени на пропущенном кусочке получается полная ерунда (начиная с какой степени становится плохо? От чего это зависит?)"
   ]
  },
  {
   "cell_type": "markdown",
   "metadata": {},
   "source": [
    "Для того, чтобы бороться с такими проблемами - слишком сложная модель там, где хватило бы и более простой - есть трюк под названием **регуляризация**.\n",
    "\n",
    "Мы стараемся минимизировать не только суммарную ошибку $\\sum(f(x_i) - P(x_i))^2$ но и сложность модели. Что такое сложность модели можно определять по разному, но одним из хороших вариантов может быть сумма квадратов коэффициентов многочлена. Таким образом мы будем пытаться оптимизировать функцию такого вида: $$ \\sum (f(x_i) -P(x_i))^2 + \\alpha \\sum a_i^2$$\n",
    "\n",
    "Коэффициент $\\alpha$ отвечает за то, насколько много внимания мы обращаем на сложность. К сожалению функция polyfit не умеет подбирать параметры в такой постановке, но зато есть аналог LinearRegression, который делает то же самое."
   ]
  },
  {
   "cell_type": "code",
   "execution_count": 118,
   "metadata": {},
   "outputs": [],
   "source": [
    "from sklearn.linear_model import Ridge\n",
    "model = Ridge()"
   ]
  },
  {
   "cell_type": "markdown",
   "metadata": {},
   "source": [
    "Этот класс реализует Ридж-регрессию, то есть подбирает коэффициенты в линейной функции с учетом регуляризации, описанной в предыдущем абзаце. При этом у каждой точки может быть сколько угодно координат. Поскольку мы хотим получить в итоге полином, для каждой точке мы сделаем координаты $x, x^2, x^3, \\dots, x^n$."
   ]
  },
  {
   "cell_type": "code",
   "execution_count": 131,
   "metadata": {},
   "outputs": [
    {
     "data": {
      "text/plain": [
       "Ridge(alpha=100, copy_X=True, fit_intercept=True, max_iter=None,\n",
       "   normalize=False, random_state=None, solver='auto', tol=0.001)"
      ]
     },
     "execution_count": 131,
     "metadata": {},
     "output_type": "execute_result"
    }
   ],
   "source": [
    "n_dots = 100\n",
    "deg = 10\n",
    "model = Ridge(alpha=100)\n",
    "x = np.linspace(-1, 1, n_dots)\n",
    "y = f(x) + np.random.normal(0.0, 1.0, n_dots)\n",
    "\n",
    "X = [[t ** i for i in range(1, deg+1)] for t in x]\n",
    "model.fit(X, y)"
   ]
  },
  {
   "cell_type": "code",
   "execution_count": 132,
   "metadata": {},
   "outputs": [
    {
     "data": {
      "text/plain": [
       "array([ 0.53440997, -0.12643255,  0.35935762, -0.0937239 ,  0.28168681,\n",
       "       -0.06997341,  0.23610992, -0.0546722 ,  0.20547003, -0.04457504])"
      ]
     },
     "execution_count": 132,
     "metadata": {},
     "output_type": "execute_result"
    }
   ],
   "source": [
    "model.coef_"
   ]
  },
  {
   "cell_type": "code",
   "execution_count": 133,
   "metadata": {},
   "outputs": [
    {
     "data": {
      "text/plain": [
       "[<matplotlib.lines.Line2D at 0x7f9940af6128>]"
      ]
     },
     "execution_count": 133,
     "metadata": {},
     "output_type": "execute_result"
    },
    {
     "data": {
      "image/png": "[encoded data removed]",
      "text/plain": [
       "<Figure size 432x288 with 1 Axes>"
      ]
     },
     "metadata": {
      "needs_background": "light"
     },
     "output_type": "display_data"
    }
   ],
   "source": [
    "x100 = np.linspace(-1.4, 1.4, 100)\n",
    "X100 = [[t ** i for i in range(1, deg+1)] for t in x100]\n",
    "plt.scatter(x,y)\n",
    "plt.plot(x100, f(x100))\n",
    "plt.plot(x100, model.predict(X100))"
   ]
  },
  {
   "cell_type": "markdown",
   "metadata": {},
   "source": [
    "Как видим, стало чуть лучше на выходе с границ."
   ]
  },
  {
   "cell_type": "markdown",
   "metadata": {},
   "source": [
    "**Обязательное задание 6:** разберитесь, что происходит в предыдущих блоках."
   ]
  },
  {
   "cell_type": "markdown",
   "metadata": {},
   "source": [
    "**(1 балл) Доп. задача 7:** посмотрите, удастся ли вам с помощью регуляризации исправить проблему в случае, когда есть внутренняя область в которой нет учебных данных.\n"
   ]
  },
  {
   "cell_type": "code",
   "execution_count": null,
   "metadata": {},
   "outputs": [],
   "source": [
    "# место для решения"
   ]
  },
  {
   "cell_type": "markdown",
   "metadata": {},
   "source": [
    "**(1 балл) Доп. задача 8**: постройте график ошибки на тесте в зависимости от значения параметра регуляризации. Попробуйте выбрать оптимальное значение этого параметра с помощью кросс-валидации."
   ]
  },
  {
   "cell_type": "code",
   "execution_count": null,
   "metadata": {},
   "outputs": [],
   "source": [
    "# место для решения"
   ]
  }
 ],
 "metadata": {
  "kernelspec": {
   "display_name": "Python 3",
   "language": "python",
   "name": "python3"
  },
  "language_info": {
   "codemirror_mode": {
    "name": "ipython",
    "version": 3
   },
   "file_extension": ".py",
   "mimetype": "text/x-python",
   "name": "python",
   "nbconvert_exporter": "python",
   "pygments_lexer": "ipython3",
   "version": "3.5.2"
  }
 },
 "nbformat": 4,
 "nbformat_minor": 2
}
