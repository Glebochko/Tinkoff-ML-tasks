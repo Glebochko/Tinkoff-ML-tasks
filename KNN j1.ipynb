{
 "cells": [
  {
   "cell_type": "code",
   "execution_count": 244,
   "metadata": {},
   "outputs": [],
   "source": [
    "import numpy as np\n",
    "import matplotlib.pyplot as plt"
   ]
  },
  {
   "cell_type": "code",
   "execution_count": 250,
   "metadata": {},
   "outputs": [
    {
     "name": "stdout",
     "output_type": "stream",
     "text": [
      "Generated array of points :\n"
     ]
    },
    {
     "data": {
      "text/plain": [
       "<matplotlib.collections.PathCollection at 0x118308278>"
      ]
     },
     "execution_count": 250,
     "metadata": {},
     "output_type": "execute_result"
    },
    {
     "data": {
      "image/png": "[encoded data removed]",
      "text/plain": [
       "<Figure size 432x288 with 1 Axes>"
      ]
     },
     "metadata": {
      "needs_background": "light"
     },
     "output_type": "display_data"
    }
   ],
   "source": [
    "points = []\n",
    "\n",
    "num_points = 50\n",
    "num_clusters = 2 #binary\n",
    "\n",
    "points_start_center = [3., 3.]\n",
    "std = 0.6\n",
    "\n",
    "\n",
    "for i in range(num_points):\n",
    "    x_i = np.random.normal(loc=points_start_center[0], scale=std)\n",
    "    y_i = np.random.normal(loc=points_start_center[1], scale=std)\n",
    "    points.append([x_i, y_i, -1])\n",
    "\n",
    "\n",
    "null_color = 'k'\n",
    "colors_types = ['r', 'g', 'b', 'y', 'm', 'k']\n",
    "start_null_colors = [null_color] * num_points\n",
    "    \n",
    "points_x = list(map(lambda x: x[0], points))\n",
    "points_y = list(map(lambda x: x[1], points))   \n",
    "print('Generated array of points :')\n",
    "plt.scatter(x=points_x, y=points_y, c=start_null_colors)"
   ]
  },
  {
   "cell_type": "code",
   "execution_count": null,
   "metadata": {},
   "outputs": [],
   "source": []
  },
  {
   "cell_type": "code",
   "execution_count": null,
   "metadata": {},
   "outputs": [],
   "source": [
    "from math import pow, sqrt\n",
    "    \n",
    "def get_distance(point1, point2):\n",
    "    x1 = point1[0]\n",
    "    y1 = point1[1]\n",
    "    x2 = point2[0]\n",
    "    y2 = point2[1]\n",
    "    dx = x1 - x2\n",
    "    dy = y1 - y2\n",
    "    distance = sqrt(pow(dx, 2) + pow(dy, 2))\n",
    "    return distance\n",
    "\n",
    "def get_sorted_distances(points, i, this_point) :\n",
    "    distances = []\n",
    "    for points_number in range(num_points) :\n",
    "        if points_number != i :\n",
    "            if points[points_number][2] != -1 :\n",
    "                distance = get_distance(this_point, points[points_number])\n",
    "                cluster = points[points_number][2]\n",
    "                distances.append([distance, cluster, points_number])\n",
    "\n",
    "    distances.sort()\n",
    "    return distances"
   ]
  },
  {
   "cell_type": "code",
   "execution_count": 257,
   "metadata": {},
   "outputs": [],
   "source": [
    "def KNN(points, knn) :\n",
    "    print('KNN start')\n",
    "    output_points(points, 'Input data :')   \n",
    "    iteration = 0\n",
    "    for i in range(num_points) :\n",
    "        this_point = points[i]\n",
    "        if this_point[2] == -1 :\n",
    "            iteration += 1\n",
    "            '''\n",
    "            this_distances = []\n",
    "            for points_number in range(num_points) :\n",
    "                if points_number != i :\n",
    "\n",
    "                    if points[points_number][2] != -1 :\n",
    "                        distance = get_distance(this_point, points[points_number])\n",
    "                        cluster = points[points_number][2]\n",
    "                        this_distances.append([distance, cluster, points_number])\n",
    "\n",
    "            this_distances.sort()'''\n",
    "            \n",
    "            this_distances = get_sorted_distances(points, i, this_point)\n",
    "\n",
    "            possible_clusters = [0 for x in range(num_clusters)]\n",
    "            cluster_defined = False\n",
    "            j = 0\n",
    "\n",
    "            while not cluster_defined :\n",
    "                npc = this_distances[j][1] # number of possible cluster\n",
    "                possible_clusters[npc] += 1\n",
    "                if possible_clusters[npc] == knn :\n",
    "                    this_point[2] = npc\n",
    "                    cluster_defined = True\n",
    "                    \n",
    "            output_points(points, 'iteration #{}; Point number {} :'.format(iteration, i))\n",
    "            \n",
    "    output_points(points, 'Finished :')"
   ]
  },
  {
   "cell_type": "code",
   "execution_count": 258,
   "metadata": {},
   "outputs": [],
   "source": [
    "def KNqfN(points, knn) :\n",
    "    print('KNN start')\n",
    "    output_points(points, 'Input data :')    \n",
    "    points = determine_points_belonging_to_clusters(points)\n",
    "    output_points(points, 'Finished :')"
   ]
  },
  {
   "cell_type": "code",
   "execution_count": 259,
   "metadata": {},
   "outputs": [
    {
     "name": "stdout",
     "output_type": "stream",
     "text": [
      "Input 20 defined points\n",
      "KNN start\n",
      "\n",
      "Input data :\n"
     ]
    },
    {
     "data": {
      "image/png": "[encoded data removed]",
      "text/plain": [
       "<Figure size 432x288 with 1 Axes>"
      ]
     },
     "metadata": {
      "needs_background": "light"
     },
     "output_type": "display_data"
    },
    {
     "ename": "NameError",
     "evalue": "name 'this_distances' is not defined",
     "output_type": "error",
     "traceback": [
      "\u001b[0;31m---------------------------------------------------------------------------\u001b[0m",
      "\u001b[0;31mNameError\u001b[0m                                 Traceback (most recent call last)",
      "\u001b[0;32m<ipython-input-259-55aa6aa68261>\u001b[0m in \u001b[0;36m<module>\u001b[0;34m\u001b[0m\n\u001b[1;32m      1\u001b[0m \u001b[0mpoints\u001b[0m \u001b[0;34m=\u001b[0m \u001b[0mclean_points\u001b[0m\u001b[0;34m(\u001b[0m\u001b[0mpoints\u001b[0m\u001b[0;34m)\u001b[0m\u001b[0;34m\u001b[0m\u001b[0m\n\u001b[1;32m      2\u001b[0m \u001b[0mpoints\u001b[0m \u001b[0;34m=\u001b[0m \u001b[0minput_points\u001b[0m\u001b[0;34m(\u001b[0m\u001b[0mpoints\u001b[0m\u001b[0;34m,\u001b[0m \u001b[0;36m20\u001b[0m\u001b[0;34m)\u001b[0m\u001b[0;34m\u001b[0m\u001b[0m\n\u001b[0;32m----> 3\u001b[0;31m \u001b[0mKNN\u001b[0m\u001b[0;34m(\u001b[0m\u001b[0mpoints\u001b[0m\u001b[0;34m,\u001b[0m \u001b[0;36m3\u001b[0m\u001b[0;34m)\u001b[0m\u001b[0;34m\u001b[0m\u001b[0m\n\u001b[0m",
      "\u001b[0;32m<ipython-input-257-013ec5e22596>\u001b[0m in \u001b[0;36mKNN\u001b[0;34m(points, knn)\u001b[0m\n\u001b[1;32m     19\u001b[0m             this_distances.sort()'''\n\u001b[1;32m     20\u001b[0m \u001b[0;34m\u001b[0m\u001b[0m\n\u001b[0;32m---> 21\u001b[0;31m             \u001b[0mthis_distances\u001b[0m \u001b[0;34m=\u001b[0m \u001b[0mget_sorted_distances\u001b[0m\u001b[0;34m(\u001b[0m\u001b[0mpoints\u001b[0m\u001b[0;34m,\u001b[0m \u001b[0mi\u001b[0m\u001b[0;34m,\u001b[0m \u001b[0mthis_point\u001b[0m\u001b[0;34m)\u001b[0m\u001b[0;34m\u001b[0m\u001b[0m\n\u001b[0m\u001b[1;32m     22\u001b[0m \u001b[0;34m\u001b[0m\u001b[0m\n\u001b[1;32m     23\u001b[0m             \u001b[0mpossible_clusters\u001b[0m \u001b[0;34m=\u001b[0m \u001b[0;34m[\u001b[0m\u001b[0;36m0\u001b[0m \u001b[0;32mfor\u001b[0m \u001b[0mx\u001b[0m \u001b[0;32min\u001b[0m \u001b[0mrange\u001b[0m\u001b[0;34m(\u001b[0m\u001b[0mnum_clusters\u001b[0m\u001b[0;34m)\u001b[0m\u001b[0;34m]\u001b[0m\u001b[0;34m\u001b[0m\u001b[0m\n",
      "\u001b[0;32m<ipython-input-256-91a3e6ebedb6>\u001b[0m in \u001b[0;36mget_sorted_distances\u001b[0;34m(points, i, this_point)\u001b[0m\n\u001b[1;32m     44\u001b[0m                 \u001b[0mdistance\u001b[0m \u001b[0;34m=\u001b[0m \u001b[0mget_distance\u001b[0m\u001b[0;34m(\u001b[0m\u001b[0mthis_point\u001b[0m\u001b[0;34m,\u001b[0m \u001b[0mpoints\u001b[0m\u001b[0;34m[\u001b[0m\u001b[0mpoints_number\u001b[0m\u001b[0;34m]\u001b[0m\u001b[0;34m)\u001b[0m\u001b[0;34m\u001b[0m\u001b[0m\n\u001b[1;32m     45\u001b[0m                 \u001b[0mcluster\u001b[0m \u001b[0;34m=\u001b[0m \u001b[0mpoints\u001b[0m\u001b[0;34m[\u001b[0m\u001b[0mpoints_number\u001b[0m\u001b[0;34m]\u001b[0m\u001b[0;34m[\u001b[0m\u001b[0;36m2\u001b[0m\u001b[0;34m]\u001b[0m\u001b[0;34m\u001b[0m\u001b[0m\n\u001b[0;32m---> 46\u001b[0;31m                 \u001b[0mthis_distances\u001b[0m\u001b[0;34m.\u001b[0m\u001b[0mappend\u001b[0m\u001b[0;34m(\u001b[0m\u001b[0;34m[\u001b[0m\u001b[0mdistance\u001b[0m\u001b[0;34m,\u001b[0m \u001b[0mcluster\u001b[0m\u001b[0;34m,\u001b[0m \u001b[0mpoints_number\u001b[0m\u001b[0;34m]\u001b[0m\u001b[0;34m)\u001b[0m\u001b[0;34m\u001b[0m\u001b[0m\n\u001b[0m\u001b[1;32m     47\u001b[0m \u001b[0;34m\u001b[0m\u001b[0m\n\u001b[1;32m     48\u001b[0m     \u001b[0mdistances\u001b[0m\u001b[0;34m.\u001b[0m\u001b[0msort\u001b[0m\u001b[0;34m(\u001b[0m\u001b[0;34m)\u001b[0m\u001b[0;34m\u001b[0m\u001b[0m\n",
      "\u001b[0;31mNameError\u001b[0m: name 'this_distances' is not defined"
     ]
    }
   ],
   "source": [
    "points = clean_points(points)\n",
    "points = input_points(points, 20)\n",
    "KNN(points, 3)"
   ]
  },
  {
   "cell_type": "code",
   "execution_count": null,
   "metadata": {},
   "outputs": [],
   "source": []
  },
  {
   "cell_type": "code",
   "execution_count": null,
   "metadata": {},
   "outputs": [],
   "source": []
  }
 ],
 "metadata": {
  "kernelspec": {
   "display_name": "Python 3",
   "language": "python",
   "name": "python3"
  },
  "language_info": {
   "codemirror_mode": {
    "name": "ipython",
    "version": 3
   },
   "file_extension": ".py",
   "mimetype": "text/x-python",
   "name": "python",
   "nbconvert_exporter": "python",
   "pygments_lexer": "ipython3",
   "version": "3.6.3"
  }
 },
 "nbformat": 4,
 "nbformat_minor": 2
}
